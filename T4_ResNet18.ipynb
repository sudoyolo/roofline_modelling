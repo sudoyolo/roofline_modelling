{
 "cells": [
  {
   "cell_type": "code",
   "execution_count": 1,
   "id": "4eeb1978-9292-4c14-8705-4c79aa5aa07a",
   "metadata": {},
   "outputs": [],
   "source": [
    "import torch\n",
    "import torch.nn as nn\n",
    "import torch.optim as optim\n",
    "import torchvision\n",
    "import torchvision.transforms as transforms\n",
    "from torch.utils.data import DataLoader\n",
    "from torchvision.models import resnet18\n",
    "from torch.profiler import profile, record_function, ProfilerActivity"
   ]
  },
  {
   "cell_type": "code",
   "execution_count": 2,
   "id": "0f933943-3966-44d4-ae0e-1b223c01af9d",
   "metadata": {},
   "outputs": [
    {
     "data": {
      "text/plain": [
       "device(type='cuda')"
      ]
     },
     "execution_count": 2,
     "metadata": {},
     "output_type": "execute_result"
    }
   ],
   "source": [
    "device = torch.device(\"cuda\" if torch.cuda.is_available() else \"cpu\")\n",
    "device"
   ]
  },
  {
   "cell_type": "code",
   "execution_count": 3,
   "id": "58d88671-d1c4-41f0-8cbf-5c80a6c8a218",
   "metadata": {},
   "outputs": [],
   "source": [
    "transform = transforms.Compose([\n",
    "    transforms.Resize((224, 224)),  \n",
    "    transforms.Grayscale(3),        \n",
    "    transforms.ToTensor(),\n",
    "    transforms.Normalize((0.1307,) * 3, (0.3081,) * 3) \n",
    "])"
   ]
  },
  {
   "cell_type": "code",
   "execution_count": 4,
   "id": "3452eba3-5507-4967-9fa9-6baa8b7772b8",
   "metadata": {},
   "outputs": [],
   "source": [
    "train_dataset = torchvision.datasets.MNIST(root='./data', train=True, download=True, transform=transform)\n",
    "train_loader = DataLoader(train_dataset, batch_size=64, shuffle=True, num_workers=4)"
   ]
  },
  {
   "cell_type": "code",
   "execution_count": 6,
   "id": "220688c7-6127-4173-835b-3e37572f0855",
   "metadata": {},
   "outputs": [],
   "source": [
    "model = resnet18(weights=None)  \n",
    "model.fc = nn.Linear(model.fc.in_features, 10)  # Modify last layer for 10 classes (MNIST)\n",
    "model = model.to(device)"
   ]
  },
  {
   "cell_type": "code",
   "execution_count": 7,
   "id": "ff96038a-7097-4e5b-bcef-01b3d868552d",
   "metadata": {},
   "outputs": [],
   "source": [
    "criterion = nn.CrossEntropyLoss()\n",
    "optimizer = optim.SGD(model.parameters(), lr=0.01, momentum=0.9)"
   ]
  },
  {
   "cell_type": "code",
   "execution_count": 8,
   "id": "58cd5710-b3c0-44a7-a83e-03cd70d0823a",
   "metadata": {},
   "outputs": [],
   "source": [
    "def train_batch(inputs, labels):\n",
    "    optimizer.zero_grad()\n",
    "    outputs = model(inputs)\n",
    "    loss = criterion(outputs, labels)\n",
    "    loss.backward()\n",
    "    optimizer.step()\n",
    "    return loss.item()"
   ]
  },
  {
   "cell_type": "code",
   "execution_count": 9,
   "id": "c20c3a27-dc28-4f6c-8faa-71da6ad9e85a",
   "metadata": {},
   "outputs": [],
   "source": [
    "def run_profiler():\n",
    "    activities = [\n",
    "        ProfilerActivity.CPU,\n",
    "        ProfilerActivity.CUDA,\n",
    "    ]\n",
    "    \n",
    "    # Warm-up\n",
    "    for i, (inputs, labels) in enumerate(train_loader):\n",
    "        if i >= 10: \n",
    "            break\n",
    "        inputs, labels = inputs.to(device), labels.to(device)\n",
    "        train_batch(inputs, labels)\n",
    "    \n",
    "    with profile(\n",
    "        activities=activities,\n",
    "        record_shapes=True,\n",
    "        profile_memory=True,\n",
    "        with_flops=True,\n",
    "        on_trace_ready=torch.profiler.tensorboard_trace_handler('./log/resnet18_t4_lightning_profile'),\n",
    "    ) as prof:\n",
    "        for i, (inputs, labels) in enumerate(train_loader):\n",
    "            if i >= 100: \n",
    "                break\n",
    "            \n",
    "            inputs, labels = inputs.to(device), labels.to(device)\n",
    "            with record_function(\"train_batch\"):\n",
    "                loss = train_batch(inputs, labels)\n",
    "            prof.step()\n",
    "    \n",
    "    # Print profiler results\n",
    "    print(prof.key_averages().table(sort_by=\"cuda_time_total\", row_limit=20))\n",
    "    \n",
    "    # Get FLOPS information\n",
    "    flops_data = prof.key_averages()\n",
    "    total_flops = 0\n",
    "    total_time = 0\n",
    "    \n",
    "    for item in flops_data:\n",
    "        if hasattr(item, 'flops') and item.flops > 0:\n",
    "            total_flops += item.flops\n",
    "            if hasattr(item, 'cuda_time_total'):\n",
    "                total_time += item.cuda_time_total\n",
    "            elif hasattr(item, 'cpu_time_total'):\n",
    "                total_time += item.cpu_time_total\n",
    "    \n",
    "    # Calculate FLOPS/s (divide by 1e9 to get GFLOPS/s)\n",
    "    if total_time > 0: \n",
    "        flops_per_second = total_flops / (total_time * 1e-6)  # Convert time from microseconds to seconds\n",
    "        print(f\"\\nTotal FLOPS: {total_flops}\")\n",
    "        print(f\"Total CUDA time: {total_time * 1e-6:.6f} seconds\")\n",
    "        print(f\"Performance: {flops_per_second / 1e9:.2f} GFLOPS/s\")\n",
    "    \n",
    "    # Calculate arithmetic intensity (FLOPs/byte)\n",
    "    total_memory_bytes = 0\n",
    "    for item in flops_data:\n",
    "        if hasattr(item, 'self_memory_usage'):\n",
    "            total_memory_bytes += item.self_memory_usage\n",
    "    \n",
    "    if total_memory_bytes > 0: \n",
    "        arithmetic_intensity = total_flops / total_memory_bytes\n",
    "        print(f\"Total memory usage: {total_memory_bytes / (1024 * 1024):.2f} MB\")\n",
    "        print(f\"Arithmetic Intensity: {arithmetic_intensity:.2f} FLOPS/byte\")\n",
    "    \n",
    "    return prof"
   ]
  },
  {
   "cell_type": "code",
   "execution_count": 10,
   "id": "83b5b585-8340-4d15-8f72-3bceea68f307",
   "metadata": {},
   "outputs": [
    {
     "name": "stderr",
     "output_type": "stream",
     "text": [
      "STAGE:2025-04-02 01:40:56 6291:6291 ActivityProfilerController.cpp:314] Completed Stage: Warm Up\n",
      "STAGE:2025-04-02 01:41:15 6291:6291 ActivityProfilerController.cpp:320] Completed Stage: Collection\n",
      "STAGE:2025-04-02 01:41:15 6291:6291 ActivityProfilerController.cpp:324] Completed Stage: Post Processing\n"
     ]
    },
    {
     "name": "stdout",
     "output_type": "stream",
     "text": [
      "-------------------------------------------------------  ------------  ------------  ------------  ------------  ------------  ------------  ------------  ------------  ------------  ------------  ------------  ------------  ------------  ------------  ------------  \n",
      "                                                   Name    Self CPU %      Self CPU   CPU total %     CPU total  CPU time avg     Self CUDA   Self CUDA %    CUDA total  CUDA time avg       CPU Mem  Self CPU Mem      CUDA Mem  Self CUDA Mem    # of Calls  Total MFLOPs  \n",
      "-------------------------------------------------------  ------------  ------------  ------------  ------------  ------------  ------------  ------------  ------------  ------------  ------------  ------------  ------------  ------------  ------------  ------------  \n",
      "autograd::engine::evaluate_function: ConvolutionBack...         0.24%      44.412ms         2.98%     551.482ms     275.741us       0.000us         0.00%        9.147s       4.574ms           0 b           0 b     -33.50 Gb     -86.23 Gb          2000            --  \n",
      "                                   ConvolutionBackward0         0.13%      23.864ms         2.63%     485.907ms     242.953us       0.000us         0.00%        8.833s       4.416ms           0 b           0 b      52.73 Gb           0 b          2000            --  \n",
      "                             aten::convolution_backward         1.56%     287.586ms         2.50%     462.043ms     231.022us        7.680s        45.72%        8.833s       4.416ms           0 b           0 b      52.73 Gb      48.45 Gb          2000            --  \n",
      "                                            train_batch         8.80%        1.628s        85.53%       15.817s     158.171ms       0.000us         0.00%        6.136s      61.364ms           0 b           0 b           0 b    -130.52 Gb           100            --  \n",
      "                                      aten::convolution         0.18%      33.785ms         1.47%     272.050ms     136.025us       0.000us         0.00%        3.527s       1.764ms           0 b           0 b      59.22 Gb           0 b          2000            --  \n",
      "                                     aten::_convolution         0.11%      20.909ms         1.29%     238.265ms     119.132us       0.000us         0.00%        3.527s       1.764ms           0 b           0 b      59.22 Gb           0 b          2000            --  \n",
      "                                aten::cudnn_convolution         0.83%     153.795ms         1.18%     217.356ms     108.678us        2.981s        17.75%        3.527s       1.764ms           0 b           0 b      59.22 Gb      59.22 Gb          2000            --  \n",
      "                                           aten::conv2d         0.08%      15.024ms         1.54%     285.356ms     142.678us       0.000us         0.00%        3.503s       1.752ms           0 b           0 b      59.22 Gb     434.88 Mb          2000  23213585.203  \n",
      "autograd::engine::evaluate_function: CudnnBatchNormB...         0.22%      40.514ms         1.44%     266.303ms     133.151us       0.000us         0.00%        1.831s     915.257us           0 b           0 b     -41.27 Gb    -100.49 Gb          2000            --  \n",
      "                                CudnnBatchNormBackward0         0.11%      19.787ms         1.22%     225.789ms     112.894us       0.000us         0.00%        1.831s     915.257us           0 b           0 b      59.22 Gb           0 b          2000            --  \n",
      "                        aten::cudnn_batch_norm_backward         0.55%     101.950ms         1.11%     206.002ms     103.001us        1.480s         8.81%        1.831s     915.257us           0 b           0 b      59.22 Gb           0 b          2000            --  \n",
      "                                  volta_sgemm_128x64_nt         0.00%       0.000us         0.00%       0.000us       0.000us        1.664s         9.91%        1.664s     875.811us           0 b           0 b           0 b           0 b          1900            --  \n",
      "                           aten::_batch_norm_impl_index         0.07%      13.646ms         1.57%     289.434ms     144.717us       0.000us         0.00%        1.344s     671.890us           0 b           0 b      59.22 Gb           0 b          2000            --  \n",
      "                                 aten::cudnn_batch_norm         0.71%     130.678ms         1.49%     275.788ms     137.894us     937.207ms         5.58%        1.344s     671.890us           0 b           0 b      59.22 Gb     -85.75 Mb          2000            --  \n",
      "                                       aten::batch_norm         0.07%      13.629ms         1.61%     298.351ms     149.175us       0.000us         0.00%        1.311s     655.627us           0 b           0 b      59.22 Gb       1.33 Gb          2000            --  \n",
      "                                       cudaLaunchKernel         1.75%     324.481ms         1.75%     324.481ms       9.629us        1.237s         7.37%        1.237s      36.720us           0 b           0 b           0 b           0 b         33700            --  \n",
      "void cudnn::winograd_nonfused::winogradForwardData4x...         0.00%       0.000us         0.00%       0.000us       0.000us        1.204s         7.17%        1.204s     463.071us           0 b           0 b           0 b           0 b          2600            --  \n",
      "                                               aten::to         0.04%       8.282ms         6.33%        1.170s     467.632us       0.000us         0.00%        1.132s     452.555us           0 b           0 b       3.59 Gb         512 b          2502            --  \n",
      "                                         aten::_to_copy         0.02%       4.244ms         6.28%        1.162s       5.810ms       0.000us         0.00%        1.132s       5.661ms           0 b           0 b       3.59 Gb           0 b           200            --  \n",
      "                                            aten::copy_         0.03%       5.280ms         6.23%        1.153s       5.764ms        1.108s         6.59%        1.132s       5.661ms           0 b           0 b           0 b           0 b           200            --  \n",
      "-------------------------------------------------------  ------------  ------------  ------------  ------------  ------------  ------------  ------------  ------------  ------------  ------------  ------------  ------------  ------------  ------------  ------------  \n",
      "Self CPU time total: 18.492s\n",
      "Self CUDA time total: 16.798s\n",
      "\n",
      "\n",
      "Total FLOPS: 23213781811200\n",
      "Total CUDA time: 3.520396 seconds\n",
      "Performance: 6594.08 GFLOPS/s\n",
      "\n",
      "Top operators by FLOPS:\n",
      "-------------------------------------------------------  ------------  ------------  ------------  ------------  ------------  ------------  ------------  ------------  ------------  ------------  ------------  ------------  ------------  ------------  ------------  \n",
      "                                                   Name    Self CPU %      Self CPU   CPU total %     CPU total  CPU time avg     Self CUDA   Self CUDA %    CUDA total  CUDA time avg       CPU Mem  Self CPU Mem      CUDA Mem  Self CUDA Mem    # of Calls  Total MFLOPs  \n",
      "-------------------------------------------------------  ------------  ------------  ------------  ------------  ------------  ------------  ------------  ------------  ------------  ------------  ------------  ------------  ------------  ------------  ------------  \n",
      "                                           aten::conv2d         0.08%      15.024ms         1.54%     285.356ms     142.678us       0.000us         0.00%        3.503s       1.752ms           0 b           0 b      59.22 Gb     434.88 Mb          2000  23213585.203  \n",
      "                                               aten::mm         0.04%       7.871ms         0.06%      10.208ms      51.040us       1.131ms         0.01%       4.582ms      22.910us           0 b           0 b      14.45 Mb      14.45 Mb           200       131.072  \n",
      "                                            aten::addmm         0.04%       6.968ms         0.05%       9.459ms      94.590us     908.000us         0.01%      12.735ms     127.350us           0 b           0 b     250.00 Kb     250.00 Kb           100        65.536  \n",
      "                                            aten::empty         1.04%     192.715ms         1.04%     192.715ms       9.538us       0.000us         0.00%       0.000us       0.000us     468.77 Kb     468.77 Kb     122.72 Gb     122.72 Gb         20205            --  \n",
      "                                          aten::random_         0.00%      51.000us         0.00%      51.000us      25.500us       0.000us         0.00%       0.000us       0.000us           0 b           0 b           0 b           0 b             2            --  \n",
      "                                             aten::item         0.01%       1.116ms        71.61%       13.243s     129.829ms       0.000us         0.00%       2.759ms      27.049us           0 b           0 b           0 b           0 b           102            --  \n",
      "                              aten::_local_scalar_dense         0.02%       3.017ms        71.60%       13.241s     129.818ms     100.000us         0.00%       2.759ms      27.049us           0 b           0 b           0 b           0 b           102            --  \n",
      "                                               [memory]         0.00%       0.000us         0.00%       0.000us       0.000us       0.000us         0.00%       0.000us       0.000us      -3.63 Gb      -3.63 Gb      -3.59 Gb      -3.59 Gb           405            --  \n",
      "                                         aten::randperm         0.01%       1.527ms         0.02%       3.083ms       1.542ms       0.000us         0.00%       0.000us       0.000us     468.75 Kb          -8 b           0 b           0 b             2            --  \n",
      "                                    aten::scalar_tensor         0.00%      13.000us         0.00%      13.000us      13.000us       0.000us         0.00%       0.000us       0.000us           8 b           8 b           0 b           0 b             1            --  \n",
      "-------------------------------------------------------  ------------  ------------  ------------  ------------  ------------  ------------  ------------  ------------  ------------  ------------  ------------  ------------  ------------  ------------  ------------  \n",
      "Self CPU time total: 18.492s\n",
      "Self CUDA time total: 16.798s\n",
      "\n"
     ]
    },
    {
     "ename": "RuntimeError",
     "evalue": "Trace is already saved.",
     "output_type": "error",
     "traceback": [
      "\u001b[0;31m---------------------------------------------------------------------------\u001b[0m",
      "\u001b[0;31mRuntimeError\u001b[0m                              Traceback (most recent call last)",
      "Cell \u001b[0;32mIn[10], line 6\u001b[0m\n\u001b[1;32m      3\u001b[0m \u001b[38;5;28mprint\u001b[39m(\u001b[38;5;124m\"\u001b[39m\u001b[38;5;130;01m\\n\u001b[39;00m\u001b[38;5;124mTop operators by FLOPS:\u001b[39m\u001b[38;5;124m\"\u001b[39m)\n\u001b[1;32m      4\u001b[0m \u001b[38;5;28mprint\u001b[39m(profiler_results\u001b[38;5;241m.\u001b[39mkey_averages()\u001b[38;5;241m.\u001b[39mtable(sort_by\u001b[38;5;241m=\u001b[39m\u001b[38;5;124m\"\u001b[39m\u001b[38;5;124mflops\u001b[39m\u001b[38;5;124m\"\u001b[39m, row_limit\u001b[38;5;241m=\u001b[39m\u001b[38;5;241m10\u001b[39m))\n\u001b[0;32m----> 6\u001b[0m \u001b[43mprofiler_results\u001b[49m\u001b[38;5;241;43m.\u001b[39;49m\u001b[43mexport_chrome_trace\u001b[49m\u001b[43m(\u001b[49m\u001b[38;5;124;43m\"\u001b[39;49m\u001b[38;5;124;43mresnet18_t4_lightning.json\u001b[39;49m\u001b[38;5;124;43m\"\u001b[39;49m\u001b[43m)\u001b[49m\n\u001b[1;32m      7\u001b[0m \u001b[38;5;28mprint\u001b[39m(\u001b[38;5;124m\"\u001b[39m\u001b[38;5;130;01m\\n\u001b[39;00m\u001b[38;5;124mTrace file exported to: resnet18_t4_lightning.json\u001b[39m\u001b[38;5;124m\"\u001b[39m)\n",
      "File \u001b[0;32m/home/zeus/miniconda3/envs/cloudspace/lib/python3.10/site-packages/torch/profiler/profiler.py:180\u001b[0m, in \u001b[0;36m_KinetoProfile.export_chrome_trace\u001b[0;34m(self, path)\u001b[0m\n\u001b[1;32m    178\u001b[0m     \u001b[38;5;28;01mreturn\u001b[39;00m retvalue\n\u001b[1;32m    179\u001b[0m \u001b[38;5;28;01melse\u001b[39;00m:\n\u001b[0;32m--> 180\u001b[0m     \u001b[38;5;28;01mreturn\u001b[39;00m \u001b[38;5;28;43mself\u001b[39;49m\u001b[38;5;241;43m.\u001b[39;49m\u001b[43mprofiler\u001b[49m\u001b[38;5;241;43m.\u001b[39;49m\u001b[43mexport_chrome_trace\u001b[49m\u001b[43m(\u001b[49m\u001b[43mpath\u001b[49m\u001b[43m)\u001b[49m\n",
      "File \u001b[0;32m/home/zeus/miniconda3/envs/cloudspace/lib/python3.10/site-packages/torch/autograd/profiler.py:350\u001b[0m, in \u001b[0;36mprofile.export_chrome_trace\u001b[0;34m(self, path)\u001b[0m\n\u001b[1;32m    348\u001b[0m \u001b[38;5;28mself\u001b[39m\u001b[38;5;241m.\u001b[39m_check_finish()\n\u001b[1;32m    349\u001b[0m \u001b[38;5;28;01mif\u001b[39;00m kineto_available():\n\u001b[0;32m--> 350\u001b[0m     \u001b[38;5;28;43mself\u001b[39;49m\u001b[38;5;241;43m.\u001b[39;49m\u001b[43mkineto_results\u001b[49m\u001b[38;5;241;43m.\u001b[39;49m\u001b[43msave\u001b[49m\u001b[43m(\u001b[49m\u001b[43mpath\u001b[49m\u001b[43m)\u001b[49m  \u001b[38;5;66;03m# type: ignore[union-attr]\u001b[39;00m\n\u001b[1;32m    351\u001b[0m \u001b[38;5;28;01melse\u001b[39;00m:\n\u001b[1;32m    352\u001b[0m     \u001b[38;5;28;01mreturn\u001b[39;00m \u001b[38;5;28mself\u001b[39m\u001b[38;5;241m.\u001b[39mfunction_events\u001b[38;5;241m.\u001b[39mexport_chrome_trace(path)\n",
      "\u001b[0;31mRuntimeError\u001b[0m: Trace is already saved."
     ]
    }
   ],
   "source": [
    "profiler_results = run_profiler()\n",
    "\n",
    "print(\"\\nTop operators by FLOPS:\")\n",
    "print(profiler_results.key_averages().table(sort_by=\"flops\", row_limit=10))\n",
    "\n",
    "profiler_results.export_chrome_trace(\"resnet18_t4_lightning.json\")\n",
    "print(\"\\nTrace file exported to: resnet18_t4_lightning.json\")"
   ]
  }
 ],
 "metadata": {
  "kernelspec": {
   "display_name": "Python 3",
   "language": "python",
   "name": "python3"
  },
  "language_info": {
   "codemirror_mode": {
    "name": "ipython",
    "version": 3
   },
   "file_extension": ".py",
   "mimetype": "text/x-python",
   "name": "python",
   "nbconvert_exporter": "python",
   "pygments_lexer": "ipython3",
   "version": "3.10.10"
  }
 },
 "nbformat": 4,
 "nbformat_minor": 5
}
