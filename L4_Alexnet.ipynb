{
 "cells": [
  {
   "cell_type": "code",
   "execution_count": 1,
   "id": "aef78045-7710-4daa-81af-bc5bfea76834",
   "metadata": {},
   "outputs": [],
   "source": [
    "import torch\n",
    "import torch.nn as nn\n",
    "import torch.optim as optim\n",
    "import torchvision\n",
    "import torchvision.transforms as transforms\n",
    "from torch.utils.data import DataLoader\n",
    "from torchvision.models import alexnet\n",
    "from torch.profiler import profile, record_function, ProfilerActivity"
   ]
  },
  {
   "cell_type": "code",
   "execution_count": 2,
   "id": "a31085e5-1b6a-4d4e-9f5f-9889dab4ad83",
   "metadata": {},
   "outputs": [
    {
     "data": {
      "text/plain": [
       "device(type='cuda')"
      ]
     },
     "execution_count": 2,
     "metadata": {},
     "output_type": "execute_result"
    }
   ],
   "source": [
    "device = torch.device(\"cuda\" if torch.cuda.is_available() else \"cpu\")\n",
    "device"
   ]
  },
  {
   "cell_type": "code",
   "execution_count": 3,
   "id": "7335b0ad-5ca2-4dc2-93c9-2f93c54ea4f6",
   "metadata": {},
   "outputs": [],
   "source": [
    "transform = transforms.Compose([\n",
    "    transforms.Resize((224, 224)),  \n",
    "    transforms.Grayscale(3),        \n",
    "    transforms.ToTensor(),\n",
    "    transforms.Normalize((0.1307,) * 3, (0.3081,) * 3) \n",
    "])"
   ]
  },
  {
   "cell_type": "code",
   "execution_count": 4,
   "id": "7aa1383e-b368-4319-b56f-026dcd8a822f",
   "metadata": {},
   "outputs": [],
   "source": [
    "train_dataset = torchvision.datasets.MNIST(root='./data', train=True, download=True, transform=transform)\n",
    "train_loader = DataLoader(train_dataset, batch_size=64, shuffle=True, num_workers=4)"
   ]
  },
  {
   "cell_type": "code",
   "execution_count": 5,
   "id": "abdf4f2e-d65f-42a8-aa18-55b6f3ceb271",
   "metadata": {},
   "outputs": [],
   "source": [
    "model = alexnet(weights=None) \n",
    "model.classifier[6] = nn.Linear(model.classifier[6].in_features, 10)  # Modify last layer for 10 classes (MNIST)\n",
    "model = model.to(device)"
   ]
  },
  {
   "cell_type": "code",
   "execution_count": 6,
   "id": "e425c579-6212-427a-a759-9050b6351e46",
   "metadata": {},
   "outputs": [],
   "source": [
    "criterion = nn.CrossEntropyLoss()\n",
    "optimizer = optim.SGD(model.parameters(), lr=0.01, momentum=0.9)"
   ]
  },
  {
   "cell_type": "code",
   "execution_count": 7,
   "id": "5a7cde82-f9f0-4034-9830-316ee127521f",
   "metadata": {},
   "outputs": [],
   "source": [
    "def train_batch(inputs, labels):\n",
    "    optimizer.zero_grad()\n",
    "    outputs = model(inputs)\n",
    "    loss = criterion(outputs, labels)\n",
    "    loss.backward()\n",
    "    optimizer.step()\n",
    "    return loss.item()"
   ]
  },
  {
   "cell_type": "code",
   "execution_count": 8,
   "id": "8bc56df5-d245-481f-8ec5-8d0366147aa6",
   "metadata": {},
   "outputs": [],
   "source": [
    "def run_profiler():\n",
    "    activities = [\n",
    "        ProfilerActivity.CPU,\n",
    "        ProfilerActivity.CUDA,\n",
    "    ]\n",
    "    \n",
    "    # Warm-up\n",
    "    for i, (inputs, labels) in enumerate(train_loader):\n",
    "        if i >= 10: \n",
    "            break\n",
    "        inputs, labels = inputs.to(device), labels.to(device)\n",
    "        train_batch(inputs, labels)\n",
    "    \n",
    "    with profile(\n",
    "        activities=activities,\n",
    "        record_shapes=True,\n",
    "        profile_memory=True,\n",
    "        with_flops=True,\n",
    "        on_trace_ready=torch.profiler.tensorboard_trace_handler('./log/alexnet_l4_lightning_profile'),\n",
    "    ) as prof:\n",
    "        for i, (inputs, labels) in enumerate(train_loader):\n",
    "            if i >= 100:  \n",
    "                break\n",
    "            \n",
    "            inputs, labels = inputs.to(device), labels.to(device)\n",
    "            with record_function(\"train_batch\"):\n",
    "                loss = train_batch(inputs, labels)\n",
    "            prof.step()\n",
    "    \n",
    "    # Print profiler results\n",
    "    print(prof.key_averages().table(sort_by=\"cuda_time_total\", row_limit=20))\n",
    "    \n",
    "    # Get FLOPS information\n",
    "    flops_data = prof.key_averages()\n",
    "    total_flops = 0\n",
    "    total_time = 0\n",
    "    \n",
    "    for item in flops_data:\n",
    "        if hasattr(item, 'flops') and item.flops > 0:\n",
    "            total_flops += item.flops\n",
    "            if hasattr(item, 'cuda_time_total'):\n",
    "                total_time += item.cuda_time_total\n",
    "            elif hasattr(item, 'cpu_time_total'):\n",
    "                total_time += item.cpu_time_total\n",
    "    \n",
    "    # Calculate FLOPS/s (divide by 1e9 to get GFLOPS/s)\n",
    "    if total_time > 0: \n",
    "        flops_per_second = total_flops / (total_time * 1e-6)  # Convert time from microseconds to seconds\n",
    "        print(f\"\\nTotal FLOPS: {total_flops}\")\n",
    "        print(f\"Total CUDA time: {total_time * 1e-6:.6f} seconds\")\n",
    "        print(f\"Performance: {flops_per_second / 1e9:.2f} GFLOPS/s\")\n",
    "    \n",
    "    # Calculate arithmetic intensity (FLOPs/byte)\n",
    "    total_memory_bytes = 0\n",
    "    for item in flops_data:\n",
    "        if hasattr(item, 'self_memory_usage'):\n",
    "            total_memory_bytes += item.self_memory_usage\n",
    "    \n",
    "    if total_memory_bytes > 0: \n",
    "        arithmetic_intensity = total_flops / total_memory_bytes\n",
    "        print(f\"Total memory usage: {total_memory_bytes / (1024 * 1024):.2f} MB\")\n",
    "        print(f\"Arithmetic Intensity: {arithmetic_intensity:.2f} FLOPS/byte\")\n",
    "    \n",
    "    return prof"
   ]
  },
  {
   "cell_type": "code",
   "execution_count": 9,
   "id": "c9a1a98c-fec5-45b5-aea9-8518e62165b3",
   "metadata": {},
   "outputs": [
    {
     "name": "stderr",
     "output_type": "stream",
     "text": [
      "STAGE:2025-04-02 02:10:05 4549:4549 ActivityProfilerController.cpp:314] Completed Stage: Warm Up\n",
      "STAGE:2025-04-02 02:10:10 4549:4549 ActivityProfilerController.cpp:320] Completed Stage: Collection\n",
      "STAGE:2025-04-02 02:10:10 4549:4549 ActivityProfilerController.cpp:324] Completed Stage: Post Processing\n"
     ]
    },
    {
     "name": "stdout",
     "output_type": "stream",
     "text": [
      "-------------------------------------------------------  ------------  ------------  ------------  ------------  ------------  ------------  ------------  ------------  ------------  ------------  ------------  ------------  ------------  ------------  ------------  \n",
      "                                                   Name    Self CPU %      Self CPU   CPU total %     CPU total  CPU time avg     Self CUDA   Self CUDA %    CUDA total  CUDA time avg       CPU Mem  Self CPU Mem      CUDA Mem  Self CUDA Mem    # of Calls  Total GFLOPs  \n",
      "-------------------------------------------------------  ------------  ------------  ------------  ------------  ------------  ------------  ------------  ------------  ------------  ------------  ------------  ------------  ------------  ------------  ------------  \n",
      "                                            train_batch        10.30%     378.161ms        69.28%        2.543s      25.432ms       0.000us         0.00%        1.525s      15.245ms           0 b           0 b           0 b       2.07 Gb           100            --  \n",
      "autograd::engine::evaluate_function: ConvolutionBack...         0.15%       5.608ms         2.73%     100.357ms     200.714us       0.000us         0.00%     896.753ms       1.794ms           0 b           0 b      -8.09 Gb     -13.53 Gb           500            --  \n",
      "                             aten::convolution_backward         1.36%      49.813ms         2.46%      90.351ms     180.702us     639.100ms        21.43%     896.753ms       1.794ms           0 b           0 b       5.42 Gb       4.49 Gb           500            --  \n",
      "                                   ConvolutionBackward0         0.12%       4.398ms         2.57%      94.485ms     188.970us       0.000us         0.00%     894.218ms       1.788ms           0 b           0 b       5.42 Gb      19.31 Mb           500            --  \n",
      "                                Optimizer.step#SGD.step         0.74%      27.056ms         1.19%      43.544ms     435.440us       0.000us         0.00%     792.069ms       7.921ms           0 b           0 b           0 b           0 b           100            --  \n",
      "                                    aten::_foreach_add_         0.17%       6.422ms         0.25%       9.220ms      46.100us     583.437ms        19.57%     600.243ms       3.001ms           0 b           0 b           0 b           0 b           200            --  \n",
      "void at::native::(anonymous namespace)::multi_tensor...         0.00%       0.000us         0.00%       0.000us       0.000us     583.437ms        19.57%     583.437ms     972.395us           0 b           0 b           0 b           0 b           600            --  \n",
      "                                               aten::to         0.14%       5.143ms        15.55%     570.669ms     569.530us       0.000us         0.00%     540.189ms     539.111us           0 b           0 b       3.59 Gb       3.50 Kb          1002            --  \n",
      "                                         aten::_to_copy         0.08%       2.978ms        15.42%     566.006ms       2.830ms       0.000us         0.00%     540.189ms       2.701ms           0 b           0 b       3.59 Gb           0 b           200            --  \n",
      "                                            aten::copy_         0.10%       3.775ms        15.23%     559.219ms       2.796ms     530.604ms        17.79%     540.189ms       2.701ms           0 b           0 b           0 b           0 b           200            --  \n",
      "                       Memcpy HtoD (Pageable -> Device)         0.00%       0.000us         0.00%       0.000us       0.000us     530.604ms        17.79%     530.604ms       2.653ms           0 b           0 b           0 b           0 b           200            --  \n",
      "                                      aten::convolution         0.21%       7.564ms         2.21%      81.284ms     162.568us       0.000us         0.00%     460.192ms     920.384us           0 b           0 b      11.63 Gb           0 b           500            --  \n",
      "                                     aten::_convolution         0.22%       8.049ms         2.01%      73.720ms     147.440us       0.000us         0.00%     460.192ms     920.384us           0 b           0 b      11.63 Gb           0 b           500            --  \n",
      "                                           aten::conv2d         0.11%       3.994ms         2.28%      83.624ms     167.248us       0.000us         0.00%     452.272ms     904.544us           0 b           0 b      11.63 Gb     243.56 Mb           500      8391.252  \n",
      "                                aten::cudnn_convolution         1.02%      37.401ms         1.47%      53.818ms     107.636us     308.436ms        10.34%     399.681ms     799.362us           0 b           0 b      11.63 Gb      11.63 Gb           500            --  \n",
      "                                       cudaLaunchKernel         2.15%      79.020ms         2.15%      79.020ms       6.871us     254.971ms         8.55%     254.971ms      22.171us           0 b           0 b      -7.00 Mb      -7.00 Mb         11500            --  \n",
      "    autograd::engine::evaluate_function: AddmmBackward0         0.16%       5.866ms         1.32%      48.497ms     161.657us       0.000us         0.00%     200.110ms     667.033us           0 b           0 b      20.26 Gb    -525.24 Mb           300            --  \n",
      "                                    aten::_foreach_mul_         0.13%       4.811ms         0.20%       7.268ms      72.680us     185.485ms         6.22%     191.826ms       1.918ms           0 b           0 b           0 b           0 b           100            --  \n",
      "                                         AddmmBackward0         0.19%       6.893ms         0.92%      33.661ms     112.203us       0.000us         0.00%     188.786ms     629.287us           0 b           0 b      20.77 Gb           0 b           300            --  \n",
      "                                               aten::mm         0.38%      13.996ms         0.56%      20.556ms      34.260us     170.635ms         5.72%     188.786ms     314.643us           0 b           0 b      20.77 Gb      20.77 Gb           600      1396.913  \n",
      "-------------------------------------------------------  ------------  ------------  ------------  ------------  ------------  ------------  ------------  ------------  ------------  ------------  ------------  ------------  ------------  ------------  ------------  \n",
      "Self CPU time total: 3.671s\n",
      "Self CUDA time total: 2.982s\n",
      "\n",
      "\n",
      "Total FLOPS: 10486620979200\n",
      "Total CUDA time: 0.774669 seconds\n",
      "Performance: 13536.91 GFLOPS/s\n",
      "\n",
      "Top operators by FLOPS:\n",
      "-------------------------------------------------------  ------------  ------------  ------------  ------------  ------------  ------------  ------------  ------------  ------------  ------------  ------------  ------------  ------------  ------------  ------------  \n",
      "                                                   Name    Self CPU %      Self CPU   CPU total %     CPU total  CPU time avg     Self CUDA   Self CUDA %    CUDA total  CUDA time avg       CPU Mem  Self CPU Mem      CUDA Mem  Self CUDA Mem    # of Calls  Total GFLOPs  \n",
      "-------------------------------------------------------  ------------  ------------  ------------  ------------  ------------  ------------  ------------  ------------  ------------  ------------  ------------  ------------  ------------  ------------  ------------  \n",
      "                                           aten::conv2d         0.11%       3.994ms         2.28%      83.624ms     167.248us       0.000us         0.00%     452.272ms     904.544us           0 b           0 b      11.63 Gb     243.56 Mb           500      8391.252  \n",
      "                                               aten::mm         0.38%      13.996ms         0.56%      20.556ms      34.260us     170.635ms         5.72%     188.786ms     314.643us           0 b           0 b      20.77 Gb      20.77 Gb           600      1396.913  \n",
      "                                            aten::addmm         0.33%      12.259ms         0.47%      17.090ms      56.967us     115.782ms         3.88%     133.611ms     445.370us           0 b           0 b     200.24 Mb     207.24 Mb           300       698.456  \n",
      "                                            aten::empty         0.17%       6.132ms         0.17%       6.132ms       5.549us       0.000us         0.00%       0.000us       0.000us     468.77 Kb     468.77 Kb       1.49 Gb       1.49 Gb          1105            --  \n",
      "                                          aten::random_         0.00%      43.000us         0.00%      43.000us      21.500us       0.000us         0.00%       0.000us       0.000us           0 b           0 b           0 b           0 b             2            --  \n",
      "                                             aten::item         0.01%     506.000us        52.91%        1.942s      19.043ms       0.000us         0.00%       4.032ms      39.529us           0 b           0 b           0 b           0 b           102            --  \n",
      "                              aten::_local_scalar_dense         0.06%       2.116ms        52.90%        1.942s      19.038ms     100.000us         0.00%       4.032ms      39.529us           0 b           0 b           0 b           0 b           102            --  \n",
      "                                               [memory]         0.00%       0.000us         0.00%       0.000us       0.000us       0.000us         0.00%       0.000us       0.000us      -3.63 Gb      -3.63 Gb      -3.59 Gb      -3.59 Gb           405            --  \n",
      "                                         aten::randperm         0.72%      26.307ms         1.43%      52.630ms      26.315ms       0.000us         0.00%       0.000us       0.000us     468.75 Kb          -8 b           0 b           0 b             2            --  \n",
      "                                    aten::scalar_tensor         0.00%       7.000us         0.00%       7.000us       7.000us       0.000us         0.00%       0.000us       0.000us           8 b           8 b           0 b           0 b             1            --  \n",
      "-------------------------------------------------------  ------------  ------------  ------------  ------------  ------------  ------------  ------------  ------------  ------------  ------------  ------------  ------------  ------------  ------------  ------------  \n",
      "Self CPU time total: 3.671s\n",
      "Self CUDA time total: 2.982s\n",
      "\n"
     ]
    },
    {
     "ename": "RuntimeError",
     "evalue": "Trace is already saved.",
     "output_type": "error",
     "traceback": [
      "\u001b[0;31m---------------------------------------------------------------------------\u001b[0m",
      "\u001b[0;31mRuntimeError\u001b[0m                              Traceback (most recent call last)",
      "Cell \u001b[0;32mIn[9], line 6\u001b[0m\n\u001b[1;32m      3\u001b[0m \u001b[38;5;28mprint\u001b[39m(\u001b[38;5;124m\"\u001b[39m\u001b[38;5;130;01m\\n\u001b[39;00m\u001b[38;5;124mTop operators by FLOPS:\u001b[39m\u001b[38;5;124m\"\u001b[39m)\n\u001b[1;32m      4\u001b[0m \u001b[38;5;28mprint\u001b[39m(profiler_results\u001b[38;5;241m.\u001b[39mkey_averages()\u001b[38;5;241m.\u001b[39mtable(sort_by\u001b[38;5;241m=\u001b[39m\u001b[38;5;124m\"\u001b[39m\u001b[38;5;124mflops\u001b[39m\u001b[38;5;124m\"\u001b[39m, row_limit\u001b[38;5;241m=\u001b[39m\u001b[38;5;241m10\u001b[39m))\n\u001b[0;32m----> 6\u001b[0m \u001b[43mprofiler_results\u001b[49m\u001b[38;5;241;43m.\u001b[39;49m\u001b[43mexport_chrome_trace\u001b[49m\u001b[43m(\u001b[49m\u001b[38;5;124;43m\"\u001b[39;49m\u001b[38;5;124;43malexnet_l4_lightning.json\u001b[39;49m\u001b[38;5;124;43m\"\u001b[39;49m\u001b[43m)\u001b[49m\n\u001b[1;32m      7\u001b[0m \u001b[38;5;28mprint\u001b[39m(\u001b[38;5;124m\"\u001b[39m\u001b[38;5;130;01m\\n\u001b[39;00m\u001b[38;5;124mTrace file exported to: alexnet_l4_lightning.json\u001b[39m\u001b[38;5;124m\"\u001b[39m)\n",
      "File \u001b[0;32m/home/zeus/miniconda3/envs/cloudspace/lib/python3.10/site-packages/torch/profiler/profiler.py:180\u001b[0m, in \u001b[0;36m_KinetoProfile.export_chrome_trace\u001b[0;34m(self, path)\u001b[0m\n\u001b[1;32m    178\u001b[0m     \u001b[38;5;28;01mreturn\u001b[39;00m retvalue\n\u001b[1;32m    179\u001b[0m \u001b[38;5;28;01melse\u001b[39;00m:\n\u001b[0;32m--> 180\u001b[0m     \u001b[38;5;28;01mreturn\u001b[39;00m \u001b[38;5;28;43mself\u001b[39;49m\u001b[38;5;241;43m.\u001b[39;49m\u001b[43mprofiler\u001b[49m\u001b[38;5;241;43m.\u001b[39;49m\u001b[43mexport_chrome_trace\u001b[49m\u001b[43m(\u001b[49m\u001b[43mpath\u001b[49m\u001b[43m)\u001b[49m\n",
      "File \u001b[0;32m/home/zeus/miniconda3/envs/cloudspace/lib/python3.10/site-packages/torch/autograd/profiler.py:350\u001b[0m, in \u001b[0;36mprofile.export_chrome_trace\u001b[0;34m(self, path)\u001b[0m\n\u001b[1;32m    348\u001b[0m \u001b[38;5;28mself\u001b[39m\u001b[38;5;241m.\u001b[39m_check_finish()\n\u001b[1;32m    349\u001b[0m \u001b[38;5;28;01mif\u001b[39;00m kineto_available():\n\u001b[0;32m--> 350\u001b[0m     \u001b[38;5;28;43mself\u001b[39;49m\u001b[38;5;241;43m.\u001b[39;49m\u001b[43mkineto_results\u001b[49m\u001b[38;5;241;43m.\u001b[39;49m\u001b[43msave\u001b[49m\u001b[43m(\u001b[49m\u001b[43mpath\u001b[49m\u001b[43m)\u001b[49m  \u001b[38;5;66;03m# type: ignore[union-attr]\u001b[39;00m\n\u001b[1;32m    351\u001b[0m \u001b[38;5;28;01melse\u001b[39;00m:\n\u001b[1;32m    352\u001b[0m     \u001b[38;5;28;01mreturn\u001b[39;00m \u001b[38;5;28mself\u001b[39m\u001b[38;5;241m.\u001b[39mfunction_events\u001b[38;5;241m.\u001b[39mexport_chrome_trace(path)\n",
      "\u001b[0;31mRuntimeError\u001b[0m: Trace is already saved."
     ]
    }
   ],
   "source": [
    "profiler_results = run_profiler()\n",
    "\n",
    "print(\"\\nTop operators by FLOPS:\")\n",
    "print(profiler_results.key_averages().table(sort_by=\"flops\", row_limit=10))\n",
    "\n",
    "profiler_results.export_chrome_trace(\"alexnet_l4_lightning.json\")\n",
    "print(\"\\nTrace file exported to: alexnet_l4_lightning.json\")"
   ]
  }
 ],
 "metadata": {
  "kernelspec": {
   "display_name": "Python 3",
   "language": "python",
   "name": "python3"
  },
  "language_info": {
   "codemirror_mode": {
    "name": "ipython",
    "version": 3
   },
   "file_extension": ".py",
   "mimetype": "text/x-python",
   "name": "python",
   "nbconvert_exporter": "python",
   "pygments_lexer": "ipython3",
   "version": "3.10.10"
  }
 },
 "nbformat": 4,
 "nbformat_minor": 5
}
