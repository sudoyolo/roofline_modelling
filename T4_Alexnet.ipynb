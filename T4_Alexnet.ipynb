{
 "cells": [
  {
   "cell_type": "code",
   "execution_count": 1,
   "id": "aef78045-7710-4daa-81af-bc5bfea76834",
   "metadata": {},
   "outputs": [],
   "source": [
    "import torch\n",
    "import torch.nn as nn\n",
    "import torch.optim as optim\n",
    "import torchvision\n",
    "import torchvision.transforms as transforms\n",
    "from torch.utils.data import DataLoader\n",
    "from torchvision.models import alexnet\n",
    "from torch.profiler import profile, record_function, ProfilerActivity"
   ]
  },
  {
   "cell_type": "code",
   "execution_count": 2,
   "id": "a31085e5-1b6a-4d4e-9f5f-9889dab4ad83",
   "metadata": {},
   "outputs": [
    {
     "data": {
      "text/plain": [
       "device(type='cuda')"
      ]
     },
     "execution_count": 2,
     "metadata": {},
     "output_type": "execute_result"
    }
   ],
   "source": [
    "device = torch.device(\"cuda\" if torch.cuda.is_available() else \"cpu\")\n",
    "device"
   ]
  },
  {
   "cell_type": "code",
   "execution_count": 3,
   "id": "7335b0ad-5ca2-4dc2-93c9-2f93c54ea4f6",
   "metadata": {},
   "outputs": [],
   "source": [
    "transform = transforms.Compose([\n",
    "    transforms.Resize((224, 224)),  \n",
    "    transforms.Grayscale(3),        \n",
    "    transforms.ToTensor(),\n",
    "    transforms.Normalize((0.1307,) * 3, (0.3081,) * 3) \n",
    "])"
   ]
  },
  {
   "cell_type": "code",
   "execution_count": 4,
   "id": "7aa1383e-b368-4319-b56f-026dcd8a822f",
   "metadata": {},
   "outputs": [],
   "source": [
    "train_dataset = torchvision.datasets.MNIST(root='./data', train=True, download=True, transform=transform)\n",
    "train_loader = DataLoader(train_dataset, batch_size=64, shuffle=True, num_workers=4)"
   ]
  },
  {
   "cell_type": "code",
   "execution_count": 5,
   "id": "abdf4f2e-d65f-42a8-aa18-55b6f3ceb271",
   "metadata": {},
   "outputs": [],
   "source": [
    "model = alexnet(weights=None) \n",
    "model.classifier[6] = nn.Linear(model.classifier[6].in_features, 10)  # Modify last layer for 10 classes (MNIST)\n",
    "model = model.to(device)"
   ]
  },
  {
   "cell_type": "code",
   "execution_count": 6,
   "id": "e425c579-6212-427a-a759-9050b6351e46",
   "metadata": {},
   "outputs": [],
   "source": [
    "criterion = nn.CrossEntropyLoss()\n",
    "optimizer = optim.SGD(model.parameters(), lr=0.01, momentum=0.9)"
   ]
  },
  {
   "cell_type": "code",
   "execution_count": 7,
   "id": "5a7cde82-f9f0-4034-9830-316ee127521f",
   "metadata": {},
   "outputs": [],
   "source": [
    "def train_batch(inputs, labels):\n",
    "    optimizer.zero_grad()\n",
    "    outputs = model(inputs)\n",
    "    loss = criterion(outputs, labels)\n",
    "    loss.backward()\n",
    "    optimizer.step()\n",
    "    return loss.item()"
   ]
  },
  {
   "cell_type": "code",
   "execution_count": 10,
   "id": "8bc56df5-d245-481f-8ec5-8d0366147aa6",
   "metadata": {},
   "outputs": [],
   "source": [
    "def run_profiler():\n",
    "    activities = [\n",
    "        ProfilerActivity.CPU,\n",
    "        ProfilerActivity.CUDA,\n",
    "    ]\n",
    "    \n",
    "    # Warm-up\n",
    "    for i, (inputs, labels) in enumerate(train_loader):\n",
    "        if i >= 10: \n",
    "            break\n",
    "        inputs, labels = inputs.to(device), labels.to(device)\n",
    "        train_batch(inputs, labels)\n",
    "    \n",
    "    with profile(\n",
    "        activities=activities,\n",
    "        record_shapes=True,\n",
    "        profile_memory=True,\n",
    "        with_flops=True,\n",
    "        on_trace_ready=torch.profiler.tensorboard_trace_handler('./log/alexnet_t4_lightning_profile'),\n",
    "    ) as prof:\n",
    "        for i, (inputs, labels) in enumerate(train_loader):\n",
    "            if i >= 100:  \n",
    "                break\n",
    "            \n",
    "            inputs, labels = inputs.to(device), labels.to(device)\n",
    "            with record_function(\"train_batch\"):\n",
    "                loss = train_batch(inputs, labels)\n",
    "            prof.step()\n",
    "    \n",
    "    # Print profiler results\n",
    "    print(prof.key_averages().table(sort_by=\"cuda_time_total\", row_limit=20))\n",
    "    \n",
    "    # Get FLOPS information\n",
    "    flops_data = prof.key_averages()\n",
    "    total_flops = 0\n",
    "    total_time = 0\n",
    "    \n",
    "    for item in flops_data:\n",
    "        if hasattr(item, 'flops') and item.flops > 0:\n",
    "            total_flops += item.flops\n",
    "            if hasattr(item, 'cuda_time_total'):\n",
    "                total_time += item.cuda_time_total\n",
    "            elif hasattr(item, 'cpu_time_total'):\n",
    "                total_time += item.cpu_time_total\n",
    "    \n",
    "    # Calculate FLOPS/s (divide by 1e9 to get GFLOPS/s)\n",
    "    if total_time > 0: \n",
    "        flops_per_second = total_flops / (total_time * 1e-6)  # Convert time from microseconds to seconds\n",
    "        print(f\"\\nTotal FLOPS: {total_flops}\")\n",
    "        print(f\"Total CUDA time: {total_time * 1e-6:.6f} seconds\")\n",
    "        print(f\"Performance: {flops_per_second / 1e9:.2f} GFLOPS/s\")\n",
    "    \n",
    "    # Calculate arithmetic intensity (FLOPs/byte)\n",
    "    total_memory_bytes = 0\n",
    "    for item in flops_data:\n",
    "        if hasattr(item, 'self_memory_usage'):\n",
    "            total_memory_bytes += item.self_memory_usage\n",
    "    \n",
    "    if total_memory_bytes > 0: \n",
    "        arithmetic_intensity = total_flops / total_memory_bytes\n",
    "        print(f\"Total memory usage: {total_memory_bytes / (1024 * 1024):.2f} MB\")\n",
    "        print(f\"Arithmetic Intensity: {arithmetic_intensity:.2f} FLOPS/byte\")\n",
    "    \n",
    "    return prof"
   ]
  },
  {
   "cell_type": "code",
   "execution_count": 11,
   "id": "c9a1a98c-fec5-45b5-aea9-8518e62165b3",
   "metadata": {},
   "outputs": [
    {
     "name": "stderr",
     "output_type": "stream",
     "text": [
      "STAGE:2025-04-02 01:35:51 1318:1318 ActivityProfilerController.cpp:314] Completed Stage: Warm Up\n",
      "STAGE:2025-04-02 01:35:58 1318:1318 ActivityProfilerController.cpp:320] Completed Stage: Collection\n",
      "STAGE:2025-04-02 01:35:58 1318:1318 ActivityProfilerController.cpp:324] Completed Stage: Post Processing\n"
     ]
    },
    {
     "name": "stdout",
     "output_type": "stream",
     "text": [
      "-------------------------------------------------------  ------------  ------------  ------------  ------------  ------------  ------------  ------------  ------------  ------------  ------------  ------------  ------------  ------------  ------------  ------------  \n",
      "                                                   Name    Self CPU %      Self CPU   CPU total %     CPU total  CPU time avg     Self CUDA   Self CUDA %    CUDA total  CUDA time avg       CPU Mem  Self CPU Mem      CUDA Mem  Self CUDA Mem    # of Calls  Total GFLOPs  \n",
      "-------------------------------------------------------  ------------  ------------  ------------  ------------  ------------  ------------  ------------  ------------  ------------  ------------  ------------  ------------  ------------  ------------  ------------  \n",
      "                                            train_batch        11.01%     713.460ms        65.82%        4.266s      42.665ms       0.000us         0.00%        2.024s      20.239ms           0 b           0 b           0 b       2.35 Gb           100            --  \n",
      "autograd::engine::evaluate_function: ConvolutionBack...         0.18%      11.761ms         2.93%     189.841ms     379.682us       0.000us         0.00%        1.438s       2.877ms           0 b           0 b      -8.12 Gb     -13.51 Gb           500            --  \n",
      "                                   ConvolutionBackward0         0.12%       7.907ms         2.75%     178.080ms     356.160us       0.000us         0.00%        1.438s       2.877ms           0 b           0 b       5.39 Gb           0 b           500            --  \n",
      "                             aten::convolution_backward         1.40%      90.540ms         2.63%     170.173ms     340.346us        1.380s        25.72%        1.438s       2.877ms           0 b           0 b       5.39 Gb       4.46 Gb           500            --  \n",
      "                                               aten::to         0.10%       6.424ms        19.76%        1.281s       1.279ms       0.000us         0.00%        1.217s       1.214ms           0 b           0 b       3.59 Gb           0 b          1002            --  \n",
      "                                         aten::_to_copy         0.07%       4.634ms        19.67%        1.275s       6.374ms       0.000us         0.00%        1.217s       6.084ms           0 b           0 b       3.59 Gb           0 b           200            --  \n",
      "                                            aten::copy_         0.08%       5.470ms        19.51%        1.265s       6.325ms        1.217s        22.68%        1.217s       6.084ms           0 b           0 b           0 b           0 b           200            --  \n",
      "                       Memcpy HtoD (Pageable -> Device)         0.00%       0.000us         0.00%       0.000us       0.000us        1.217s        22.68%        1.217s       6.084ms           0 b           0 b           0 b           0 b           200            --  \n",
      "                                           aten::conv2d         0.07%       4.246ms         1.94%     125.581ms     251.162us       0.000us         0.00%     839.268ms       1.679ms           0 b           0 b      11.63 Gb           0 b           500      8391.252  \n",
      "                                      aten::convolution         0.18%      11.723ms         1.87%     121.335ms     242.670us       0.000us         0.00%     839.268ms       1.679ms           0 b           0 b      11.63 Gb           0 b           500            --  \n",
      "                                     aten::_convolution         0.20%      13.122ms         1.69%     109.612ms     219.224us       0.000us         0.00%     839.268ms       1.679ms           0 b           0 b      11.63 Gb           0 b           500            --  \n",
      "                                Optimizer.step#SGD.step         0.69%      44.422ms         1.19%      77.080ms     770.800us       0.000us         0.00%     761.941ms       7.619ms           0 b           0 b           0 b           0 b           100            --  \n",
      "                                aten::cudnn_convolution         0.81%      52.234ms         1.18%      76.519ms     153.038us     736.014ms        13.72%     736.014ms       1.472ms           0 b           0 b      11.63 Gb      11.63 Gb           500            --  \n",
      "                                  volta_sgemm_128x64_nt         0.00%       0.000us         0.00%       0.000us       0.000us     629.139ms        11.73%     629.139ms     786.424us           0 b           0 b           0 b           0 b           800            --  \n",
      "                                    aten::_foreach_add_         0.21%      13.826ms         0.30%      19.137ms      95.685us     564.952ms        10.53%     564.952ms       2.825ms           0 b           0 b           0 b           0 b           200            --  \n",
      "void at::native::(anonymous namespace)::multi_tensor...         0.00%       0.000us         0.00%       0.000us       0.000us     564.952ms        10.53%     564.952ms     941.587us           0 b           0 b           0 b           0 b           600            --  \n",
      "                                  volta_sgemm_128x64_nn         0.00%       0.000us         0.00%       0.000us       0.000us     424.399ms         7.91%     424.399ms     707.332us           0 b           0 b           0 b           0 b           600            --  \n",
      "    autograd::engine::evaluate_function: AddmmBackward0         0.18%      11.721ms         1.36%      88.008ms     293.360us       0.000us         0.00%     265.757ms     885.857us           0 b           0 b      20.26 Gb    -525.24 Mb           300            --  \n",
      "                                         AddmmBackward0         0.19%      12.316ms         0.92%      59.889ms     199.630us       0.000us         0.00%     262.751ms     875.837us           0 b           0 b      20.77 Gb           0 b           300            --  \n",
      "                                               aten::mm         0.38%      24.655ms         0.54%      35.296ms      58.827us     262.751ms         4.90%     262.751ms     437.918us           0 b           0 b      20.77 Gb      20.77 Gb           600      1396.913  \n",
      "-------------------------------------------------------  ------------  ------------  ------------  ------------  ------------  ------------  ------------  ------------  ------------  ------------  ------------  ------------  ------------  ------------  ------------  \n",
      "Self CPU time total: 6.482s\n",
      "Self CUDA time total: 5.365s\n",
      "\n",
      "\n",
      "Total FLOPS: 10486620979200\n",
      "Total CUDA time: 1.316469 seconds\n",
      "Performance: 7965.72 GFLOPS/s\n",
      "\n",
      "Top operators by FLOPS:\n",
      "-------------------------------------------------------  ------------  ------------  ------------  ------------  ------------  ------------  ------------  ------------  ------------  ------------  ------------  ------------  ------------  ------------  ------------  \n",
      "                                                   Name    Self CPU %      Self CPU   CPU total %     CPU total  CPU time avg     Self CUDA   Self CUDA %    CUDA total  CUDA time avg       CPU Mem  Self CPU Mem      CUDA Mem  Self CUDA Mem    # of Calls  Total GFLOPs  \n",
      "-------------------------------------------------------  ------------  ------------  ------------  ------------  ------------  ------------  ------------  ------------  ------------  ------------  ------------  ------------  ------------  ------------  ------------  \n",
      "                                           aten::conv2d         0.07%       4.246ms         1.94%     125.581ms     251.162us       0.000us         0.00%     839.268ms       1.679ms           0 b           0 b      11.63 Gb           0 b           500      8391.252  \n",
      "                                               aten::mm         0.38%      24.655ms         0.54%      35.296ms      58.827us     262.751ms         4.90%     262.751ms     437.918us           0 b           0 b      20.77 Gb      20.77 Gb           600      1396.913  \n",
      "                                            aten::addmm         0.31%      20.084ms         0.44%      28.426ms      94.753us     214.450ms         4.00%     214.450ms     714.833us           0 b           0 b     200.24 Mb     200.24 Mb           300       698.456  \n",
      "                                            aten::empty         0.20%      12.851ms         0.20%      12.851ms      11.630us       0.000us         0.00%       0.000us       0.000us     468.77 Kb     468.77 Kb       1.49 Gb       1.49 Gb          1105            --  \n",
      "                                          aten::random_         0.00%      54.000us         0.00%      54.000us      27.000us       0.000us         0.00%       0.000us       0.000us           0 b           0 b           0 b           0 b             2            --  \n",
      "                                             aten::item         0.02%     996.000us        49.24%        3.192s      31.293ms       0.000us         0.00%     101.000us       0.990us           0 b           0 b           0 b           0 b           102            --  \n",
      "                              aten::_local_scalar_dense         0.05%       3.043ms        49.22%        3.191s      31.283ms     101.000us         0.00%     101.000us       0.990us           0 b           0 b           0 b           0 b           102            --  \n",
      "                                               [memory]         0.00%       0.000us         0.00%       0.000us       0.000us       0.000us         0.00%       0.000us       0.000us      -3.63 Gb      -3.63 Gb      -3.59 Gb      -3.59 Gb           405            --  \n",
      "                                         aten::randperm         0.06%       4.056ms         0.12%       7.514ms       3.757ms       0.000us         0.00%       0.000us       0.000us     468.75 Kb          -8 b           0 b           0 b             2            --  \n",
      "                                    aten::scalar_tensor         0.00%      23.000us         0.00%      23.000us      23.000us       0.000us         0.00%       0.000us       0.000us           8 b           8 b           0 b           0 b             1            --  \n",
      "-------------------------------------------------------  ------------  ------------  ------------  ------------  ------------  ------------  ------------  ------------  ------------  ------------  ------------  ------------  ------------  ------------  ------------  \n",
      "Self CPU time total: 6.482s\n",
      "Self CUDA time total: 5.365s\n",
      "\n"
     ]
    },
    {
     "ename": "RuntimeError",
     "evalue": "Trace is already saved.",
     "output_type": "error",
     "traceback": [
      "\u001b[0;31m---------------------------------------------------------------------------\u001b[0m",
      "\u001b[0;31mRuntimeError\u001b[0m                              Traceback (most recent call last)",
      "Cell \u001b[0;32mIn[11], line 6\u001b[0m\n\u001b[1;32m      3\u001b[0m \u001b[38;5;28mprint\u001b[39m(\u001b[38;5;124m\"\u001b[39m\u001b[38;5;130;01m\\n\u001b[39;00m\u001b[38;5;124mTop operators by FLOPS:\u001b[39m\u001b[38;5;124m\"\u001b[39m)\n\u001b[1;32m      4\u001b[0m \u001b[38;5;28mprint\u001b[39m(profiler_results\u001b[38;5;241m.\u001b[39mkey_averages()\u001b[38;5;241m.\u001b[39mtable(sort_by\u001b[38;5;241m=\u001b[39m\u001b[38;5;124m\"\u001b[39m\u001b[38;5;124mflops\u001b[39m\u001b[38;5;124m\"\u001b[39m, row_limit\u001b[38;5;241m=\u001b[39m\u001b[38;5;241m10\u001b[39m))\n\u001b[0;32m----> 6\u001b[0m \u001b[43mprofiler_results\u001b[49m\u001b[38;5;241;43m.\u001b[39;49m\u001b[43mexport_chrome_trace\u001b[49m\u001b[43m(\u001b[49m\u001b[38;5;124;43m\"\u001b[39;49m\u001b[38;5;124;43malexnet_t4_lightning.json\u001b[39;49m\u001b[38;5;124;43m\"\u001b[39;49m\u001b[43m)\u001b[49m\n\u001b[1;32m      7\u001b[0m \u001b[38;5;28mprint\u001b[39m(\u001b[38;5;124m\"\u001b[39m\u001b[38;5;130;01m\\n\u001b[39;00m\u001b[38;5;124mTrace file exported to: alexnet_t4_lightning.json\u001b[39m\u001b[38;5;124m\"\u001b[39m)\n",
      "File \u001b[0;32m/home/zeus/miniconda3/envs/cloudspace/lib/python3.10/site-packages/torch/profiler/profiler.py:180\u001b[0m, in \u001b[0;36m_KinetoProfile.export_chrome_trace\u001b[0;34m(self, path)\u001b[0m\n\u001b[1;32m    178\u001b[0m     \u001b[38;5;28;01mreturn\u001b[39;00m retvalue\n\u001b[1;32m    179\u001b[0m \u001b[38;5;28;01melse\u001b[39;00m:\n\u001b[0;32m--> 180\u001b[0m     \u001b[38;5;28;01mreturn\u001b[39;00m \u001b[38;5;28;43mself\u001b[39;49m\u001b[38;5;241;43m.\u001b[39;49m\u001b[43mprofiler\u001b[49m\u001b[38;5;241;43m.\u001b[39;49m\u001b[43mexport_chrome_trace\u001b[49m\u001b[43m(\u001b[49m\u001b[43mpath\u001b[49m\u001b[43m)\u001b[49m\n",
      "File \u001b[0;32m/home/zeus/miniconda3/envs/cloudspace/lib/python3.10/site-packages/torch/autograd/profiler.py:350\u001b[0m, in \u001b[0;36mprofile.export_chrome_trace\u001b[0;34m(self, path)\u001b[0m\n\u001b[1;32m    348\u001b[0m \u001b[38;5;28mself\u001b[39m\u001b[38;5;241m.\u001b[39m_check_finish()\n\u001b[1;32m    349\u001b[0m \u001b[38;5;28;01mif\u001b[39;00m kineto_available():\n\u001b[0;32m--> 350\u001b[0m     \u001b[38;5;28;43mself\u001b[39;49m\u001b[38;5;241;43m.\u001b[39;49m\u001b[43mkineto_results\u001b[49m\u001b[38;5;241;43m.\u001b[39;49m\u001b[43msave\u001b[49m\u001b[43m(\u001b[49m\u001b[43mpath\u001b[49m\u001b[43m)\u001b[49m  \u001b[38;5;66;03m# type: ignore[union-attr]\u001b[39;00m\n\u001b[1;32m    351\u001b[0m \u001b[38;5;28;01melse\u001b[39;00m:\n\u001b[1;32m    352\u001b[0m     \u001b[38;5;28;01mreturn\u001b[39;00m \u001b[38;5;28mself\u001b[39m\u001b[38;5;241m.\u001b[39mfunction_events\u001b[38;5;241m.\u001b[39mexport_chrome_trace(path)\n",
      "\u001b[0;31mRuntimeError\u001b[0m: Trace is already saved."
     ]
    }
   ],
   "source": [
    "profiler_results = run_profiler()\n",
    "\n",
    "print(\"\\nTop operators by FLOPS:\")\n",
    "print(profiler_results.key_averages().table(sort_by=\"flops\", row_limit=10))\n",
    "\n",
    "profiler_results.export_chrome_trace(\"alexnet_t4_lightning.json\")\n",
    "print(\"\\nTrace file exported to: alexnet_t4_lightning.json\")"
   ]
  },
  {
   "cell_type": "code",
   "execution_count": null,
   "id": "62c7edf1-cea5-4c27-a393-23e3034c2b49",
   "metadata": {},
   "outputs": [],
   "source": []
  }
 ],
 "metadata": {
  "kernelspec": {
   "display_name": "Python 3",
   "language": "python",
   "name": "python3"
  },
  "language_info": {
   "codemirror_mode": {
    "name": "ipython",
    "version": 3
   },
   "file_extension": ".py",
   "mimetype": "text/x-python",
   "name": "python",
   "nbconvert_exporter": "python",
   "pygments_lexer": "ipython3",
   "version": "3.10.10"
  }
 },
 "nbformat": 4,
 "nbformat_minor": 5
}
