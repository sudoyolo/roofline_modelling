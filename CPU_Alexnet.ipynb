{
 "cells": [
  {
   "cell_type": "code",
   "execution_count": 10,
   "id": "aef78045-7710-4daa-81af-bc5bfea76834",
   "metadata": {},
   "outputs": [],
   "source": [
    "import torch\n",
    "import torch.nn as nn\n",
    "import torch.optim as optim\n",
    "import torchvision\n",
    "import torchvision.transforms as transforms\n",
    "from torch.utils.data import DataLoader\n",
    "from torchvision.models import alexnet\n",
    "from torch.profiler import profile, record_function, ProfilerActivity"
   ]
  },
  {
   "cell_type": "code",
   "execution_count": 11,
   "id": "a31085e5-1b6a-4d4e-9f5f-9889dab4ad83",
   "metadata": {},
   "outputs": [
    {
     "data": {
      "text/plain": [
       "device(type='cpu')"
      ]
     },
     "execution_count": 11,
     "metadata": {},
     "output_type": "execute_result"
    }
   ],
   "source": [
    "device = torch.device(\"cuda\" if torch.cuda.is_available() else \"cpu\")\n",
    "device"
   ]
  },
  {
   "cell_type": "code",
   "execution_count": 12,
   "id": "7335b0ad-5ca2-4dc2-93c9-2f93c54ea4f6",
   "metadata": {},
   "outputs": [],
   "source": [
    "transform = transforms.Compose([\n",
    "    transforms.Resize((224, 224)),  \n",
    "    transforms.Grayscale(3),        \n",
    "    transforms.ToTensor(),\n",
    "    transforms.Normalize((0.1307,) * 3, (0.3081,) * 3) \n",
    "])"
   ]
  },
  {
   "cell_type": "code",
   "execution_count": 13,
   "id": "7aa1383e-b368-4319-b56f-026dcd8a822f",
   "metadata": {},
   "outputs": [],
   "source": [
    "train_dataset = torchvision.datasets.MNIST(root='./data', train=True, download=True, transform=transform)\n",
    "train_loader = DataLoader(train_dataset, batch_size=64, shuffle=True, num_workers=4)"
   ]
  },
  {
   "cell_type": "code",
   "execution_count": 14,
   "id": "abdf4f2e-d65f-42a8-aa18-55b6f3ceb271",
   "metadata": {},
   "outputs": [],
   "source": [
    "model = alexnet(weights=None) \n",
    "model.classifier[6] = nn.Linear(model.classifier[6].in_features, 10)  # Modify last layer for 10 classes (MNIST)\n",
    "model = model.to(device)"
   ]
  },
  {
   "cell_type": "code",
   "execution_count": 15,
   "id": "e425c579-6212-427a-a759-9050b6351e46",
   "metadata": {},
   "outputs": [],
   "source": [
    "criterion = nn.CrossEntropyLoss()\n",
    "optimizer = optim.SGD(model.parameters(), lr=0.01, momentum=0.9)"
   ]
  },
  {
   "cell_type": "code",
   "execution_count": 16,
   "id": "5a7cde82-f9f0-4034-9830-316ee127521f",
   "metadata": {},
   "outputs": [],
   "source": [
    "def train_batch(inputs, labels):\n",
    "    optimizer.zero_grad()\n",
    "    outputs = model(inputs)\n",
    "    loss = criterion(outputs, labels)\n",
    "    loss.backward()\n",
    "    optimizer.step()\n",
    "    return loss.item()"
   ]
  },
  {
   "cell_type": "code",
   "execution_count": 17,
   "id": "8bc56df5-d245-481f-8ec5-8d0366147aa6",
   "metadata": {},
   "outputs": [],
   "source": [
    "def run_profiler():\n",
    "    activities = [\n",
    "        ProfilerActivity.CPU,\n",
    "        ProfilerActivity.CUDA,\n",
    "    ]\n",
    "    \n",
    "    # Warm-up\n",
    "    for i, (inputs, labels) in enumerate(train_loader):\n",
    "        if i >= 5: \n",
    "            break\n",
    "        inputs, labels = inputs.to(device), labels.to(device)\n",
    "        train_batch(inputs, labels)\n",
    "    \n",
    "    with profile(\n",
    "        activities=activities,\n",
    "        record_shapes=True,\n",
    "        profile_memory=True,\n",
    "        with_flops=True,\n",
    "        on_trace_ready=torch.profiler.tensorboard_trace_handler('./log/alexnet_cpu_lightning_profile'),\n",
    "    ) as prof:\n",
    "        for i, (inputs, labels) in enumerate(train_loader):\n",
    "            if i >= 10:  \n",
    "                break\n",
    "            \n",
    "            inputs, labels = inputs.to(device), labels.to(device)\n",
    "            with record_function(\"train_batch\"):\n",
    "                loss = train_batch(inputs, labels)\n",
    "            prof.step()\n",
    "    \n",
    "    # Print profiler results\n",
    "    print(prof.key_averages().table(sort_by=\"cuda_time_total\", row_limit=20))\n",
    "    \n",
    "    # Get FLOPS information\n",
    "    flops_data = prof.key_averages()\n",
    "    total_flops = 0\n",
    "    total_time = 0\n",
    "    \n",
    "    for item in flops_data:\n",
    "        if hasattr(item, 'flops') and item.flops > 0:\n",
    "            total_flops += item.flops\n",
    "            if hasattr(item, 'cuda_time_total'):\n",
    "                total_time += item.cuda_time_total\n",
    "            elif hasattr(item, 'cpu_time_total'):\n",
    "                total_time += item.cpu_time_total\n",
    "    \n",
    "    # Calculate FLOPS/s (divide by 1e9 to get GFLOPS/s)\n",
    "    if total_time > 0: \n",
    "        flops_per_second = total_flops / (total_time * 1e-6)  # Convert time from microseconds to seconds\n",
    "        print(f\"\\nTotal FLOPS: {total_flops}\")\n",
    "        print(f\"Total CUDA time: {total_time * 1e-6:.6f} seconds\")\n",
    "        print(f\"Performance: {flops_per_second / 1e9:.2f} GFLOPS/s\")\n",
    "    \n",
    "    # Calculate arithmetic intensity (FLOPs/byte)\n",
    "    total_memory_bytes = 0\n",
    "    for item in flops_data:\n",
    "        if hasattr(item, 'self_memory_usage'):\n",
    "            total_memory_bytes += item.self_memory_usage\n",
    "    \n",
    "    if total_memory_bytes > 0: \n",
    "        arithmetic_intensity = total_flops / total_memory_bytes\n",
    "        print(f\"Total memory usage: {total_memory_bytes / (1024 * 1024):.2f} MB\")\n",
    "        print(f\"Arithmetic Intensity: {arithmetic_intensity:.2f} FLOPS/byte\")\n",
    "    \n",
    "    return prof"
   ]
  },
  {
   "cell_type": "code",
   "execution_count": 18,
   "id": "c9a1a98c-fec5-45b5-aea9-8518e62165b3",
   "metadata": {},
   "outputs": [
    {
     "name": "stderr",
     "output_type": "stream",
     "text": [
      "STAGE:2025-04-02 02:01:41 2410:2410 ActivityProfilerController.cpp:314] Completed Stage: Warm Up\n",
      "STAGE:2025-04-02 02:01:55 2410:2410 ActivityProfilerController.cpp:320] Completed Stage: Collection\n",
      "STAGE:2025-04-02 02:01:55 2410:2410 ActivityProfilerController.cpp:324] Completed Stage: Post Processing\n"
     ]
    },
    {
     "name": "stdout",
     "output_type": "stream",
     "text": [
      "-------------------------------------------------------  ------------  ------------  ------------  ------------  ------------  ------------  ------------  ------------  ------------  \n",
      "                                                   Name    Self CPU %      Self CPU   CPU total %     CPU total  CPU time avg       CPU Mem  Self CPU Mem    # of Calls  Total MFLOPs  \n",
      "-------------------------------------------------------  ------------  ------------  ------------  ------------  ------------  ------------  ------------  ------------  ------------  \n",
      "                                            aten::empty         0.04%       5.751ms         0.04%       5.751ms      15.756us       1.75 Gb       1.75 Gb           365            --  \n",
      "                                          aten::random_         0.00%      62.000us         0.00%      62.000us      31.000us           0 b           0 b             2            --  \n",
      "                                             aten::item         0.00%      83.000us         0.00%     124.000us      10.333us           0 b           0 b            12            --  \n",
      "                              aten::_local_scalar_dense         0.00%      41.000us         0.00%      41.000us       3.417us           0 b           0 b            12            --  \n",
      "                                               [memory]         0.00%       0.000us         0.00%       0.000us       0.000us    -404.71 Mb    -404.71 Mb            25            --  \n",
      "                                         aten::randperm         0.02%       3.325ms         0.05%       6.127ms       3.063ms     468.75 Kb          -8 b             2            --  \n",
      "                                    aten::scalar_tensor         0.00%      25.000us         0.00%      25.000us      25.000us           8 b           8 b             1            --  \n",
      "                                          aten::resize_         0.01%     673.000us         0.01%     673.000us       3.175us      40.50 Mb      40.50 Mb           212            --  \n",
      "                                     aten::resolve_conj         0.00%       8.000us         0.00%       8.000us       0.038us           0 b           0 b           211            --  \n",
      "                                      aten::resolve_neg         0.00%       0.000us         0.00%       0.000us       0.000us           0 b           0 b             1            --  \n",
      "enumerate(DataLoader)#_MultiProcessingDataLoaderIter...         2.51%     336.776ms         2.51%     337.175ms      30.652ms     404.26 Mb     404.26 Mb            11            --  \n",
      "                                               aten::to         0.00%     669.000us         0.02%       2.728ms      11.759us         720 b          76 b           232            --  \n",
      "                                       aten::lift_fresh         0.00%       3.000us         0.00%       3.000us       0.136us           0 b           0 b            22            --  \n",
      "                                          aten::detach_         0.00%     106.000us         0.00%     159.000us       7.227us           0 b           0 b            22            --  \n",
      "                                                detach_         0.00%      53.000us         0.00%      53.000us       2.409us           0 b           0 b            22            --  \n",
      "                                             aten::set_         0.00%     115.000us         0.00%     115.000us       5.227us           0 b           0 b            22            --  \n",
      "                                            train_batch         0.31%      41.123ms        97.46%       13.095s        1.310s     215.08 Mb     -22.52 Mb            10            --  \n",
      "                      Optimizer.zero_grad#SGD.zero_grad         0.61%      81.478ms         0.61%      81.478ms       8.148ms      -1.92 Gb      -1.92 Gb            10            --  \n",
      "                                           aten::conv2d         0.00%     495.000us        25.50%        3.426s      68.515ms       1.16 Gb           0 b            50    839125.156  \n",
      "                                      aten::convolution         0.01%       1.951ms        25.49%        3.425s      68.505ms       1.16 Gb           0 b            50            --  \n",
      "-------------------------------------------------------  ------------  ------------  ------------  ------------  ------------  ------------  ------------  ------------  ------------  \n",
      "Self CPU time total: 13.437s\n",
      "\n",
      "\n",
      "Top operators by FLOPS:\n",
      "-------------------------------------------------------  ------------  ------------  ------------  ------------  ------------  ------------  ------------  ------------  ------------  \n",
      "                                                   Name    Self CPU %      Self CPU   CPU total %     CPU total  CPU time avg       CPU Mem  Self CPU Mem    # of Calls  Total MFLOPs  \n",
      "-------------------------------------------------------  ------------  ------------  ------------  ------------  ------------  ------------  ------------  ------------  ------------  \n",
      "                                           aten::conv2d         0.00%     495.000us        25.50%        3.426s      68.515ms       1.16 Gb           0 b            50    839125.156  \n",
      "                                               aten::mm         8.22%        1.105s         8.22%        1.105s      18.416ms       2.07 Gb       2.07 Gb            60    139691.295  \n",
      "                                            aten::addmm         2.82%     378.456ms         2.84%     381.606ms      12.720ms      20.02 Mb      20.02 Mb            30     69845.647  \n",
      "                                              aten::mul         0.08%      10.580ms         0.08%      10.580ms     264.500us      65.00 Mb      65.00 Mb            40        17.039  \n",
      "                                            aten::empty         0.04%       5.751ms         0.04%       5.751ms      15.756us       1.75 Gb       1.75 Gb           365            --  \n",
      "                                          aten::random_         0.00%      62.000us         0.00%      62.000us      31.000us           0 b           0 b             2            --  \n",
      "                                             aten::item         0.00%      83.000us         0.00%     124.000us      10.333us           0 b           0 b            12            --  \n",
      "                              aten::_local_scalar_dense         0.00%      41.000us         0.00%      41.000us       3.417us           0 b           0 b            12            --  \n",
      "                                               [memory]         0.00%       0.000us         0.00%       0.000us       0.000us    -404.71 Mb    -404.71 Mb            25            --  \n",
      "                                         aten::randperm         0.02%       3.325ms         0.05%       6.127ms       3.063ms     468.75 Kb          -8 b             2            --  \n",
      "-------------------------------------------------------  ------------  ------------  ------------  ------------  ------------  ------------  ------------  ------------  ------------  \n",
      "Self CPU time total: 13.437s\n",
      "\n"
     ]
    },
    {
     "ename": "RuntimeError",
     "evalue": "Trace is already saved.",
     "output_type": "error",
     "traceback": [
      "\u001b[0;31m---------------------------------------------------------------------------\u001b[0m",
      "\u001b[0;31mRuntimeError\u001b[0m                              Traceback (most recent call last)",
      "Cell \u001b[0;32mIn[18], line 6\u001b[0m\n\u001b[1;32m      3\u001b[0m \u001b[38;5;28mprint\u001b[39m(\u001b[38;5;124m\"\u001b[39m\u001b[38;5;130;01m\\n\u001b[39;00m\u001b[38;5;124mTop operators by FLOPS:\u001b[39m\u001b[38;5;124m\"\u001b[39m)\n\u001b[1;32m      4\u001b[0m \u001b[38;5;28mprint\u001b[39m(profiler_results\u001b[38;5;241m.\u001b[39mkey_averages()\u001b[38;5;241m.\u001b[39mtable(sort_by\u001b[38;5;241m=\u001b[39m\u001b[38;5;124m\"\u001b[39m\u001b[38;5;124mflops\u001b[39m\u001b[38;5;124m\"\u001b[39m, row_limit\u001b[38;5;241m=\u001b[39m\u001b[38;5;241m10\u001b[39m))\n\u001b[0;32m----> 6\u001b[0m \u001b[43mprofiler_results\u001b[49m\u001b[38;5;241;43m.\u001b[39;49m\u001b[43mexport_chrome_trace\u001b[49m\u001b[43m(\u001b[49m\u001b[38;5;124;43m\"\u001b[39;49m\u001b[38;5;124;43malexnet_cpu_lightning.json\u001b[39;49m\u001b[38;5;124;43m\"\u001b[39;49m\u001b[43m)\u001b[49m\n\u001b[1;32m      7\u001b[0m \u001b[38;5;28mprint\u001b[39m(\u001b[38;5;124m\"\u001b[39m\u001b[38;5;130;01m\\n\u001b[39;00m\u001b[38;5;124mTrace file exported to: alexnet_cpu_lightning.json\u001b[39m\u001b[38;5;124m\"\u001b[39m)\n",
      "File \u001b[0;32m/home/zeus/miniconda3/envs/cloudspace/lib/python3.10/site-packages/torch/profiler/profiler.py:180\u001b[0m, in \u001b[0;36m_KinetoProfile.export_chrome_trace\u001b[0;34m(self, path)\u001b[0m\n\u001b[1;32m    178\u001b[0m     \u001b[38;5;28;01mreturn\u001b[39;00m retvalue\n\u001b[1;32m    179\u001b[0m \u001b[38;5;28;01melse\u001b[39;00m:\n\u001b[0;32m--> 180\u001b[0m     \u001b[38;5;28;01mreturn\u001b[39;00m \u001b[38;5;28;43mself\u001b[39;49m\u001b[38;5;241;43m.\u001b[39;49m\u001b[43mprofiler\u001b[49m\u001b[38;5;241;43m.\u001b[39;49m\u001b[43mexport_chrome_trace\u001b[49m\u001b[43m(\u001b[49m\u001b[43mpath\u001b[49m\u001b[43m)\u001b[49m\n",
      "File \u001b[0;32m/home/zeus/miniconda3/envs/cloudspace/lib/python3.10/site-packages/torch/autograd/profiler.py:350\u001b[0m, in \u001b[0;36mprofile.export_chrome_trace\u001b[0;34m(self, path)\u001b[0m\n\u001b[1;32m    348\u001b[0m \u001b[38;5;28mself\u001b[39m\u001b[38;5;241m.\u001b[39m_check_finish()\n\u001b[1;32m    349\u001b[0m \u001b[38;5;28;01mif\u001b[39;00m kineto_available():\n\u001b[0;32m--> 350\u001b[0m     \u001b[38;5;28;43mself\u001b[39;49m\u001b[38;5;241;43m.\u001b[39;49m\u001b[43mkineto_results\u001b[49m\u001b[38;5;241;43m.\u001b[39;49m\u001b[43msave\u001b[49m\u001b[43m(\u001b[49m\u001b[43mpath\u001b[49m\u001b[43m)\u001b[49m  \u001b[38;5;66;03m# type: ignore[union-attr]\u001b[39;00m\n\u001b[1;32m    351\u001b[0m \u001b[38;5;28;01melse\u001b[39;00m:\n\u001b[1;32m    352\u001b[0m     \u001b[38;5;28;01mreturn\u001b[39;00m \u001b[38;5;28mself\u001b[39m\u001b[38;5;241m.\u001b[39mfunction_events\u001b[38;5;241m.\u001b[39mexport_chrome_trace(path)\n",
      "\u001b[0;31mRuntimeError\u001b[0m: Trace is already saved."
     ]
    }
   ],
   "source": [
    "profiler_results = run_profiler()\n",
    "\n",
    "print(\"\\nTop operators by FLOPS:\")\n",
    "print(profiler_results.key_averages().table(sort_by=\"flops\", row_limit=10))\n",
    "\n",
    "profiler_results.export_chrome_trace(\"alexnet_cpu_lightning.json\")\n",
    "print(\"\\nTrace file exported to: alexnet_cpu_lightning.json\")"
   ]
  }
 ],
 "metadata": {
  "kernelspec": {
   "display_name": "Python 3",
   "language": "python",
   "name": "python3"
  },
  "language_info": {
   "codemirror_mode": {
    "name": "ipython",
    "version": 3
   },
   "file_extension": ".py",
   "mimetype": "text/x-python",
   "name": "python",
   "nbconvert_exporter": "python",
   "pygments_lexer": "ipython3",
   "version": "3.10.10"
  }
 },
 "nbformat": 4,
 "nbformat_minor": 5
}
