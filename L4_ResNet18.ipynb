{
 "cells": [
  {
   "cell_type": "code",
   "execution_count": 1,
   "id": "4eeb1978-9292-4c14-8705-4c79aa5aa07a",
   "metadata": {},
   "outputs": [],
   "source": [
    "import torch\n",
    "import torch.nn as nn\n",
    "import torch.optim as optim\n",
    "import torchvision\n",
    "import torchvision.transforms as transforms\n",
    "from torch.utils.data import DataLoader\n",
    "from torchvision.models import resnet18\n",
    "from torch.profiler import profile, record_function, ProfilerActivity"
   ]
  },
  {
   "cell_type": "code",
   "execution_count": 2,
   "id": "0f933943-3966-44d4-ae0e-1b223c01af9d",
   "metadata": {},
   "outputs": [
    {
     "data": {
      "text/plain": [
       "device(type='cuda')"
      ]
     },
     "execution_count": 2,
     "metadata": {},
     "output_type": "execute_result"
    }
   ],
   "source": [
    "device = torch.device(\"cuda\" if torch.cuda.is_available() else \"cpu\")\n",
    "device"
   ]
  },
  {
   "cell_type": "code",
   "execution_count": 3,
   "id": "58d88671-d1c4-41f0-8cbf-5c80a6c8a218",
   "metadata": {},
   "outputs": [],
   "source": [
    "transform = transforms.Compose([\n",
    "    transforms.Resize((224, 224)),  \n",
    "    transforms.Grayscale(3),        \n",
    "    transforms.ToTensor(),\n",
    "    transforms.Normalize((0.1307,) * 3, (0.3081,) * 3) \n",
    "])"
   ]
  },
  {
   "cell_type": "code",
   "execution_count": 4,
   "id": "3452eba3-5507-4967-9fa9-6baa8b7772b8",
   "metadata": {},
   "outputs": [
    {
     "name": "stdout",
     "output_type": "stream",
     "text": [
      "Downloading http://yann.lecun.com/exdb/mnist/train-images-idx3-ubyte.gz\n",
      "Failed to download (trying next):\n",
      "HTTP Error 404: Not Found\n",
      "\n",
      "Downloading https://ossci-datasets.s3.amazonaws.com/mnist/train-images-idx3-ubyte.gz\n",
      "Downloading https://ossci-datasets.s3.amazonaws.com/mnist/train-images-idx3-ubyte.gz to ./data/MNIST/raw/train-images-idx3-ubyte.gz\n"
     ]
    },
    {
     "name": "stderr",
     "output_type": "stream",
     "text": [
      "100%|██████████| 9912422/9912422 [00:00<00:00, 129440314.46it/s]"
     ]
    },
    {
     "name": "stdout",
     "output_type": "stream",
     "text": [
      "Extracting ./data/MNIST/raw/train-images-idx3-ubyte.gz to ./data/MNIST/raw\n"
     ]
    },
    {
     "name": "stderr",
     "output_type": "stream",
     "text": [
      "\n"
     ]
    },
    {
     "name": "stdout",
     "output_type": "stream",
     "text": [
      "\n",
      "Downloading http://yann.lecun.com/exdb/mnist/train-labels-idx1-ubyte.gz\n",
      "Failed to download (trying next):\n",
      "HTTP Error 404: Not Found\n",
      "\n",
      "Downloading https://ossci-datasets.s3.amazonaws.com/mnist/train-labels-idx1-ubyte.gz\n",
      "Downloading https://ossci-datasets.s3.amazonaws.com/mnist/train-labels-idx1-ubyte.gz to ./data/MNIST/raw/train-labels-idx1-ubyte.gz\n"
     ]
    },
    {
     "name": "stderr",
     "output_type": "stream",
     "text": [
      "100%|██████████| 28881/28881 [00:00<00:00, 27136132.13it/s]\n"
     ]
    },
    {
     "name": "stdout",
     "output_type": "stream",
     "text": [
      "Extracting ./data/MNIST/raw/train-labels-idx1-ubyte.gz to ./data/MNIST/raw\n",
      "\n",
      "Downloading http://yann.lecun.com/exdb/mnist/t10k-images-idx3-ubyte.gz\n",
      "Failed to download (trying next):\n",
      "HTTP Error 404: Not Found\n",
      "\n",
      "Downloading https://ossci-datasets.s3.amazonaws.com/mnist/t10k-images-idx3-ubyte.gz\n",
      "Downloading https://ossci-datasets.s3.amazonaws.com/mnist/t10k-images-idx3-ubyte.gz to ./data/MNIST/raw/t10k-images-idx3-ubyte.gz\n"
     ]
    },
    {
     "name": "stderr",
     "output_type": "stream",
     "text": [
      "100%|██████████| 1648877/1648877 [00:00<00:00, 76253543.67it/s]"
     ]
    },
    {
     "name": "stdout",
     "output_type": "stream",
     "text": [
      "Extracting ./data/MNIST/raw/t10k-images-idx3-ubyte.gz to ./data/MNIST/raw\n"
     ]
    },
    {
     "name": "stderr",
     "output_type": "stream",
     "text": [
      "\n"
     ]
    },
    {
     "name": "stdout",
     "output_type": "stream",
     "text": [
      "\n",
      "Downloading http://yann.lecun.com/exdb/mnist/t10k-labels-idx1-ubyte.gz\n",
      "Failed to download (trying next):\n",
      "HTTP Error 404: Not Found\n",
      "\n",
      "Downloading https://ossci-datasets.s3.amazonaws.com/mnist/t10k-labels-idx1-ubyte.gz\n",
      "Downloading https://ossci-datasets.s3.amazonaws.com/mnist/t10k-labels-idx1-ubyte.gz to ./data/MNIST/raw/t10k-labels-idx1-ubyte.gz\n"
     ]
    },
    {
     "name": "stderr",
     "output_type": "stream",
     "text": [
      "100%|██████████| 4542/4542 [00:00<00:00, 5172557.36it/s]\n"
     ]
    },
    {
     "name": "stdout",
     "output_type": "stream",
     "text": [
      "Extracting ./data/MNIST/raw/t10k-labels-idx1-ubyte.gz to ./data/MNIST/raw\n",
      "\n"
     ]
    }
   ],
   "source": [
    "train_dataset = torchvision.datasets.MNIST(root='./data', train=True, download=True, transform=transform)\n",
    "train_loader = DataLoader(train_dataset, batch_size=64, shuffle=True, num_workers=4)"
   ]
  },
  {
   "cell_type": "code",
   "execution_count": 5,
   "id": "220688c7-6127-4173-835b-3e37572f0855",
   "metadata": {},
   "outputs": [],
   "source": [
    "model = resnet18(weights=None)  \n",
    "model.fc = nn.Linear(model.fc.in_features, 10)  # Modify last layer for 10 classes (MNIST)\n",
    "model = model.to(device)"
   ]
  },
  {
   "cell_type": "code",
   "execution_count": 6,
   "id": "ff96038a-7097-4e5b-bcef-01b3d868552d",
   "metadata": {},
   "outputs": [],
   "source": [
    "criterion = nn.CrossEntropyLoss()\n",
    "optimizer = optim.SGD(model.parameters(), lr=0.01, momentum=0.9)"
   ]
  },
  {
   "cell_type": "code",
   "execution_count": 7,
   "id": "58cd5710-b3c0-44a7-a83e-03cd70d0823a",
   "metadata": {},
   "outputs": [],
   "source": [
    "def train_batch(inputs, labels):\n",
    "    optimizer.zero_grad()\n",
    "    outputs = model(inputs)\n",
    "    loss = criterion(outputs, labels)\n",
    "    loss.backward()\n",
    "    optimizer.step()\n",
    "    return loss.item()"
   ]
  },
  {
   "cell_type": "code",
   "execution_count": 8,
   "id": "c20c3a27-dc28-4f6c-8faa-71da6ad9e85a",
   "metadata": {},
   "outputs": [],
   "source": [
    "def run_profiler():\n",
    "    activities = [\n",
    "        ProfilerActivity.CPU,\n",
    "        ProfilerActivity.CUDA,\n",
    "    ]\n",
    "    \n",
    "    # Warm-up\n",
    "    for i, (inputs, labels) in enumerate(train_loader):\n",
    "        if i >= 10: \n",
    "            break\n",
    "        inputs, labels = inputs.to(device), labels.to(device)\n",
    "        train_batch(inputs, labels)\n",
    "    \n",
    "    with profile(\n",
    "        activities=activities,\n",
    "        record_shapes=True,\n",
    "        profile_memory=True,\n",
    "        with_flops=True,\n",
    "        on_trace_ready=torch.profiler.tensorboard_trace_handler('./log/resnet18_l4_lightning_profile'),\n",
    "    ) as prof:\n",
    "        for i, (inputs, labels) in enumerate(train_loader):\n",
    "            if i >= 100: \n",
    "                break\n",
    "            \n",
    "            inputs, labels = inputs.to(device), labels.to(device)\n",
    "            with record_function(\"train_batch\"):\n",
    "                loss = train_batch(inputs, labels)\n",
    "            prof.step()\n",
    "    \n",
    "    # Print profiler results\n",
    "    print(prof.key_averages().table(sort_by=\"cuda_time_total\", row_limit=20))\n",
    "    \n",
    "    # Get FLOPS information\n",
    "    flops_data = prof.key_averages()\n",
    "    total_flops = 0\n",
    "    total_time = 0\n",
    "    \n",
    "    for item in flops_data:\n",
    "        if hasattr(item, 'flops') and item.flops > 0:\n",
    "            total_flops += item.flops\n",
    "            if hasattr(item, 'cuda_time_total'):\n",
    "                total_time += item.cuda_time_total\n",
    "            elif hasattr(item, 'cpu_time_total'):\n",
    "                total_time += item.cpu_time_total\n",
    "    \n",
    "    # Calculate FLOPS/s (divide by 1e9 to get GFLOPS/s)\n",
    "    if total_time > 0: \n",
    "        flops_per_second = total_flops / (total_time * 1e-6)  # Convert time from microseconds to seconds\n",
    "        print(f\"\\nTotal FLOPS: {total_flops}\")\n",
    "        print(f\"Total CUDA time: {total_time * 1e-6:.6f} seconds\")\n",
    "        print(f\"Performance: {flops_per_second / 1e9:.2f} GFLOPS/s\")\n",
    "    \n",
    "    # Calculate arithmetic intensity (FLOPs/byte)\n",
    "    total_memory_bytes = 0\n",
    "    for item in flops_data:\n",
    "        if hasattr(item, 'self_memory_usage'):\n",
    "            total_memory_bytes += item.self_memory_usage\n",
    "    \n",
    "    if total_memory_bytes > 0: \n",
    "        arithmetic_intensity = total_flops / total_memory_bytes\n",
    "        print(f\"Total memory usage: {total_memory_bytes / (1024 * 1024):.2f} MB\")\n",
    "        print(f\"Arithmetic Intensity: {arithmetic_intensity:.2f} FLOPS/byte\")\n",
    "    \n",
    "    return prof"
   ]
  },
  {
   "cell_type": "code",
   "execution_count": 9,
   "id": "83b5b585-8340-4d15-8f72-3bceea68f307",
   "metadata": {},
   "outputs": [
    {
     "name": "stderr",
     "output_type": "stream",
     "text": [
      "STAGE:2025-04-02 02:08:31 1419:1419 ActivityProfilerController.cpp:314] Completed Stage: Warm Up\n",
      "STAGE:2025-04-02 02:08:42 1419:1419 ActivityProfilerController.cpp:320] Completed Stage: Collection\n",
      "STAGE:2025-04-02 02:08:42 1419:1419 ActivityProfilerController.cpp:324] Completed Stage: Post Processing\n"
     ]
    },
    {
     "name": "stdout",
     "output_type": "stream",
     "text": [
      "-------------------------------------------------------  ------------  ------------  ------------  ------------  ------------  ------------  ------------  ------------  ------------  ------------  ------------  ------------  ------------  ------------  ------------  \n",
      "                                                   Name    Self CPU %      Self CPU   CPU total %     CPU total  CPU time avg     Self CUDA   Self CUDA %    CUDA total  CUDA time avg       CPU Mem  Self CPU Mem      CUDA Mem  Self CUDA Mem    # of Calls  Total MFLOPs  \n",
      "-------------------------------------------------------  ------------  ------------  ------------  ------------  ------------  ------------  ------------  ------------  ------------  ------------  ------------  ------------  ------------  ------------  ------------  \n",
      "autograd::engine::evaluate_function: ConvolutionBack...         0.26%      25.291ms         3.41%     336.064ms     168.032us       0.000us         0.00%        4.319s       2.160ms           0 b           0 b     -33.41 Gb     -87.01 Gb          2000            --  \n",
      "                                   ConvolutionBackward0         0.14%      14.096ms         3.03%     297.899ms     148.950us       0.000us         0.00%        4.066s       2.033ms           0 b           0 b      53.60 Gb           0 b          2000            --  \n",
      "                             aten::convolution_backward         1.81%     178.204ms         2.88%     283.803ms     141.901us        3.376s        38.74%        4.066s       2.033ms           0 b           0 b      53.60 Gb      49.13 Gb          2000            --  \n",
      "                                            train_batch        10.17%        1.001s        85.01%        8.369s      83.686ms       0.000us         0.00%        3.072s      30.718ms           0 b           0 b           0 b    -132.76 Gb           100            --  \n",
      "void cudnn::ops::nchwToNhwcKernel<float, float, floa...         0.00%       0.000us         0.00%       0.000us       0.000us        1.477s        16.95%        1.477s     142.020us           0 b           0 b           0 b           0 b         10400            --  \n",
      "                                      aten::convolution         0.23%      22.839ms         1.83%     180.588ms      90.294us       0.000us         0.00%        1.386s     692.809us           0 b           0 b      59.69 Gb           0 b          2000            --  \n",
      "                                     aten::_convolution         0.14%      13.531ms         1.60%     157.749ms      78.874us       0.000us         0.00%        1.386s     692.809us           0 b           0 b      59.69 Gb           0 b          2000            --  \n",
      "                                aten::cudnn_convolution         1.02%     100.844ms         1.46%     144.218ms      72.109us        1.108s        12.72%        1.386s     692.809us           0 b           0 b      59.69 Gb      59.69 Gb          2000            --  \n",
      "autograd::engine::evaluate_function: CudnnBatchNormB...         0.25%      24.278ms         1.55%     152.908ms      76.454us       0.000us         0.00%        1.355s     677.740us           0 b           0 b     -41.46 Gb    -101.22 Gb          2000            --  \n",
      "                        aten::cudnn_batch_norm_backward         0.61%      60.430ms         1.18%     116.561ms      58.281us        1.161s        13.32%        1.355s     677.740us           0 b           0 b      59.71 Gb           0 b          2000            --  \n",
      "                                CudnnBatchNormBackward0         0.12%      12.069ms         1.31%     128.529ms      64.264us       0.000us         0.00%        1.354s     677.124us           0 b           0 b      59.71 Gb      62.25 Mb          2000            --  \n",
      "                                           aten::conv2d         0.14%      13.367ms         1.91%     188.322ms      94.161us       0.000us         0.00%        1.353s     676.596us           0 b           0 b      59.69 Gb       1.18 Gb          2000  23213585.203  \n",
      "                                 aten::cudnn_batch_norm         0.85%      83.332ms         1.68%     165.095ms      82.547us     574.265ms         6.59%     741.801ms     370.901us           0 b           0 b      59.61 Gb    -756.38 Mb          2000            --  \n",
      "                           aten::_batch_norm_impl_index         0.09%       8.578ms         1.76%     173.455ms      86.728us       0.000us         0.00%     741.091ms     370.546us           0 b           0 b      59.61 Gb      80.63 Mb          2000            --  \n",
      "                                       aten::batch_norm         0.12%      11.708ms         1.81%     178.569ms      89.284us       0.000us         0.00%     721.372ms     360.686us           0 b           0 b      59.61 Gb       2.05 Gb          2000            --  \n",
      "     autograd::engine::evaluate_function: ReluBackward0         0.12%      11.573ms         0.57%      55.689ms      32.758us       0.000us         0.00%     689.247ms     405.439us           0 b           0 b     -55.52 Gb    -111.74 Gb          1700            --  \n",
      "                               aten::threshold_backward         0.25%      24.231ms         0.38%      37.338ms      21.964us     650.652ms         7.46%     689.247ms     405.439us           0 b           0 b      55.42 Gb      55.42 Gb          1700            --  \n",
      "                                          ReluBackward0         0.07%       6.778ms         0.45%      43.897ms      25.822us       0.000us         0.00%     679.031ms     399.430us           0 b           0 b      55.42 Gb     817.62 Mb          1700            --  \n",
      "void at::native::vectorized_elementwise_kernel<4, at...         0.00%       0.000us         0.00%       0.000us       0.000us     650.652ms         7.46%     650.652ms     382.736us           0 b           0 b           0 b           0 b          1700            --  \n",
      "                                       cudaLaunchKernel         2.08%     204.872ms         2.08%     204.872ms       6.463us     583.851ms         6.70%     583.851ms      18.418us           0 b           0 b           0 b           0 b         31700            --  \n",
      "-------------------------------------------------------  ------------  ------------  ------------  ------------  ------------  ------------  ------------  ------------  ------------  ------------  ------------  ------------  ------------  ------------  ------------  \n",
      "Self CPU time total: 9.845s\n",
      "Self CUDA time total: 8.716s\n",
      "\n",
      "\n",
      "Total FLOPS: 23213781811200\n",
      "Total CUDA time: 1.360620 seconds\n",
      "Performance: 17061.18 GFLOPS/s\n",
      "\n",
      "Top operators by FLOPS:\n",
      "-------------------------------------------------------  ------------  ------------  ------------  ------------  ------------  ------------  ------------  ------------  ------------  ------------  ------------  ------------  ------------  ------------  ------------  \n",
      "                                                   Name    Self CPU %      Self CPU   CPU total %     CPU total  CPU time avg     Self CUDA   Self CUDA %    CUDA total  CUDA time avg       CPU Mem  Self CPU Mem      CUDA Mem  Self CUDA Mem    # of Calls  Total MFLOPs  \n",
      "-------------------------------------------------------  ------------  ------------  ------------  ------------  ------------  ------------  ------------  ------------  ------------  ------------  ------------  ------------  ------------  ------------  ------------  \n",
      "                                           aten::conv2d         0.14%      13.367ms         1.91%     188.322ms      94.161us       0.000us         0.00%        1.353s     676.596us           0 b           0 b      59.69 Gb       1.18 Gb          2000  23213585.203  \n",
      "                                               aten::mm         0.06%       6.320ms         0.10%       9.932ms      49.660us       1.124ms         0.01%       3.877ms      19.385us           0 b           0 b      14.45 Mb      14.45 Mb           200       131.072  \n",
      "                                            aten::addmm         0.07%       7.086ms         0.09%       8.734ms      87.340us     800.000us         0.01%       3.551ms      35.510us           0 b           0 b     250.00 Kb     250.00 Kb           100        65.536  \n",
      "                                            aten::empty         0.97%      95.342ms         0.97%      95.342ms       4.719us       0.000us         0.00%       0.000us       0.000us     468.77 Kb     468.77 Kb     123.78 Gb     123.78 Gb         20205            --  \n",
      "                                          aten::random_         0.00%      46.000us         0.00%      46.000us      23.000us       0.000us         0.00%       0.000us       0.000us           0 b           0 b           0 b           0 b             2            --  \n",
      "                                             aten::item         0.01%     624.000us        68.58%        6.752s      66.195ms       0.000us         0.00%     485.000us       4.755us           0 b           0 b           0 b           0 b           102            --  \n",
      "                              aten::_local_scalar_dense         0.02%       2.453ms        68.58%        6.751s      66.189ms     101.000us         0.00%     485.000us       4.755us           0 b           0 b           0 b           0 b           102            --  \n",
      "                                               [memory]         0.00%       0.000us         0.00%       0.000us       0.000us       0.000us         0.00%       0.000us       0.000us      -3.63 Gb      -3.63 Gb      -3.59 Gb      -3.59 Gb           405            --  \n",
      "                                         aten::randperm         0.20%      19.948ms         0.41%      39.914ms      19.957ms       0.000us         0.00%       0.000us       0.000us     468.75 Kb          -8 b           0 b           0 b             2            --  \n",
      "                                    aten::scalar_tensor         0.00%      13.000us         0.00%      13.000us      13.000us       0.000us         0.00%       0.000us       0.000us           8 b           8 b           0 b           0 b             1            --  \n",
      "-------------------------------------------------------  ------------  ------------  ------------  ------------  ------------  ------------  ------------  ------------  ------------  ------------  ------------  ------------  ------------  ------------  ------------  \n",
      "Self CPU time total: 9.845s\n",
      "Self CUDA time total: 8.716s\n",
      "\n"
     ]
    },
    {
     "ename": "RuntimeError",
     "evalue": "Trace is already saved.",
     "output_type": "error",
     "traceback": [
      "\u001b[0;31m---------------------------------------------------------------------------\u001b[0m",
      "\u001b[0;31mRuntimeError\u001b[0m                              Traceback (most recent call last)",
      "Cell \u001b[0;32mIn[9], line 6\u001b[0m\n\u001b[1;32m      3\u001b[0m \u001b[38;5;28mprint\u001b[39m(\u001b[38;5;124m\"\u001b[39m\u001b[38;5;130;01m\\n\u001b[39;00m\u001b[38;5;124mTop operators by FLOPS:\u001b[39m\u001b[38;5;124m\"\u001b[39m)\n\u001b[1;32m      4\u001b[0m \u001b[38;5;28mprint\u001b[39m(profiler_results\u001b[38;5;241m.\u001b[39mkey_averages()\u001b[38;5;241m.\u001b[39mtable(sort_by\u001b[38;5;241m=\u001b[39m\u001b[38;5;124m\"\u001b[39m\u001b[38;5;124mflops\u001b[39m\u001b[38;5;124m\"\u001b[39m, row_limit\u001b[38;5;241m=\u001b[39m\u001b[38;5;241m10\u001b[39m))\n\u001b[0;32m----> 6\u001b[0m \u001b[43mprofiler_results\u001b[49m\u001b[38;5;241;43m.\u001b[39;49m\u001b[43mexport_chrome_trace\u001b[49m\u001b[43m(\u001b[49m\u001b[38;5;124;43m\"\u001b[39;49m\u001b[38;5;124;43mresnet18_l4_lightning.json\u001b[39;49m\u001b[38;5;124;43m\"\u001b[39;49m\u001b[43m)\u001b[49m\n\u001b[1;32m      7\u001b[0m \u001b[38;5;28mprint\u001b[39m(\u001b[38;5;124m\"\u001b[39m\u001b[38;5;130;01m\\n\u001b[39;00m\u001b[38;5;124mTrace file exported to: resnet18_l4_lightning.json\u001b[39m\u001b[38;5;124m\"\u001b[39m)\n",
      "File \u001b[0;32m/home/zeus/miniconda3/envs/cloudspace/lib/python3.10/site-packages/torch/profiler/profiler.py:180\u001b[0m, in \u001b[0;36m_KinetoProfile.export_chrome_trace\u001b[0;34m(self, path)\u001b[0m\n\u001b[1;32m    178\u001b[0m     \u001b[38;5;28;01mreturn\u001b[39;00m retvalue\n\u001b[1;32m    179\u001b[0m \u001b[38;5;28;01melse\u001b[39;00m:\n\u001b[0;32m--> 180\u001b[0m     \u001b[38;5;28;01mreturn\u001b[39;00m \u001b[38;5;28;43mself\u001b[39;49m\u001b[38;5;241;43m.\u001b[39;49m\u001b[43mprofiler\u001b[49m\u001b[38;5;241;43m.\u001b[39;49m\u001b[43mexport_chrome_trace\u001b[49m\u001b[43m(\u001b[49m\u001b[43mpath\u001b[49m\u001b[43m)\u001b[49m\n",
      "File \u001b[0;32m/home/zeus/miniconda3/envs/cloudspace/lib/python3.10/site-packages/torch/autograd/profiler.py:350\u001b[0m, in \u001b[0;36mprofile.export_chrome_trace\u001b[0;34m(self, path)\u001b[0m\n\u001b[1;32m    348\u001b[0m \u001b[38;5;28mself\u001b[39m\u001b[38;5;241m.\u001b[39m_check_finish()\n\u001b[1;32m    349\u001b[0m \u001b[38;5;28;01mif\u001b[39;00m kineto_available():\n\u001b[0;32m--> 350\u001b[0m     \u001b[38;5;28;43mself\u001b[39;49m\u001b[38;5;241;43m.\u001b[39;49m\u001b[43mkineto_results\u001b[49m\u001b[38;5;241;43m.\u001b[39;49m\u001b[43msave\u001b[49m\u001b[43m(\u001b[49m\u001b[43mpath\u001b[49m\u001b[43m)\u001b[49m  \u001b[38;5;66;03m# type: ignore[union-attr]\u001b[39;00m\n\u001b[1;32m    351\u001b[0m \u001b[38;5;28;01melse\u001b[39;00m:\n\u001b[1;32m    352\u001b[0m     \u001b[38;5;28;01mreturn\u001b[39;00m \u001b[38;5;28mself\u001b[39m\u001b[38;5;241m.\u001b[39mfunction_events\u001b[38;5;241m.\u001b[39mexport_chrome_trace(path)\n",
      "\u001b[0;31mRuntimeError\u001b[0m: Trace is already saved."
     ]
    }
   ],
   "source": [
    "profiler_results = run_profiler()\n",
    "\n",
    "print(\"\\nTop operators by FLOPS:\")\n",
    "print(profiler_results.key_averages().table(sort_by=\"flops\", row_limit=10))\n",
    "\n",
    "profiler_results.export_chrome_trace(\"resnet18_l4_lightning.json\")\n",
    "print(\"\\nTrace file exported to: resnet18_l4_lightning.json\")"
   ]
  }
 ],
 "metadata": {
  "kernelspec": {
   "display_name": "Python 3",
   "language": "python",
   "name": "python3"
  },
  "language_info": {
   "codemirror_mode": {
    "name": "ipython",
    "version": 3
   },
   "file_extension": ".py",
   "mimetype": "text/x-python",
   "name": "python",
   "nbconvert_exporter": "python",
   "pygments_lexer": "ipython3",
   "version": "3.10.10"
  }
 },
 "nbformat": 4,
 "nbformat_minor": 5
}
